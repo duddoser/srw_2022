{
 "cells": [
  {
   "cell_type": "code",
   "execution_count": 469,
   "outputs": [
    {
     "name": "stdout",
     "output_type": "stream",
     "text": [
      "<class 'pandas.core.frame.DataFrame'>\n",
      "RangeIndex: 517 entries, 0 to 516\n",
      "Data columns (total 13 columns):\n",
      " #   Column  Non-Null Count  Dtype  \n",
      "---  ------  --------------  -----  \n",
      " 0   X       517 non-null    int64  \n",
      " 1   Y       517 non-null    int64  \n",
      " 2   month   517 non-null    object \n",
      " 3   day     517 non-null    object \n",
      " 4   FFMC    517 non-null    float64\n",
      " 5   DMC     517 non-null    float64\n",
      " 6   DC      517 non-null    float64\n",
      " 7   ISI     517 non-null    float64\n",
      " 8   temp    517 non-null    float64\n",
      " 9   RH      517 non-null    int64  \n",
      " 10  wind    517 non-null    float64\n",
      " 11  rain    517 non-null    float64\n",
      " 12  area    517 non-null    float64\n",
      "dtypes: float64(8), int64(3), object(2)\n",
      "memory usage: 52.6+ KB\n"
     ]
    }
   ],
   "source": [
    "import pandas as pd\n",
    "import warnings\n",
    "warnings.filterwarnings(\"ignore\")\n",
    "\n",
    "data = pd.read_csv('forestfires.csv')\n",
    "data.info()"
   ],
   "metadata": {
    "collapsed": false,
    "pycharm": {
     "name": "#%%\n"
    }
   }
  },
  {
   "cell_type": "markdown",
   "source": [
    "количество объектов: 517; признаков: 13\n",
    "\n",
    "X - координата в пространстве по оси Х в границах карты парка Монтесиньо: от 1 до 9\n",
    "Y - координата в пространстве по оси Y в границах карты парка Монтесиньо: от 2 до 9\n",
    "month - месяц года: от 'jan' до 'dec'\n",
    "day - день недели: от 'mon' до 'sun'\n",
    "FFMC - The Fine Fuel Moisture Code - индекс влажности измельченного топлива (индекс системы пожаров и погоды): от 18.7 до 96.20\n",
    "DMC - The Duff Moisture Code - индекс влажности штыба (мелкий уголь) (индекс системы пожаров и погоды): от 1.1 до 291.3\n",
    "DC - The Drought Code - индекс засушливости (индекс системы пожаров и погоды): от 7.9 до 860.6\n",
    "ISI - The Initial Spread Index - индекс мгновенного распространения (индекс системы пожаров и погоды): от 0.0 до 56.10\n",
    "temp - температура в градусах Цельсия: от 2.2 до 33.30\n",
    "RH - относительная влажность в %: от 15.0 до 100\n",
    "wind - скорость ветра в км/ч: от 0.40 до 9.40\n",
    "rain - дождевые осадки в мм/м2 : от 0.0 до 6.4\n",
    "area - выжженые территори в га: от 0.00 до 1090.84"
   ],
   "metadata": {
    "collapsed": false,
    "pycharm": {
     "name": "#%% md\n"
    }
   }
  },
  {
   "cell_type": "code",
   "execution_count": 470,
   "outputs": [],
   "source": [
    "from sklearn.preprocessing import LabelEncoder\n",
    "\n",
    "label = LabelEncoder()\n",
    "label.fit(data.day)\n",
    "data.day = label.transform(data.day)\n",
    "\n",
    "label2 = LabelEncoder()\n",
    "label2.fit(data.month)\n",
    "data.month = label2.transform(data.month)"
   ],
   "metadata": {
    "collapsed": false,
    "pycharm": {
     "name": "#%%\n"
    }
   }
  },
  {
   "cell_type": "code",
   "execution_count": 471,
   "outputs": [
    {
     "data": {
      "text/plain": "                X           Y       month         day        FFMC         DMC  \\\ncount  517.000000  517.000000  517.000000  517.000000  517.000000  517.000000   \nmean     4.669246    4.299807    5.758221    2.736944   90.644681  110.872340   \nstd      2.313778    1.229900    4.373275    1.925061    5.520111   64.046482   \nmin      1.000000    2.000000    0.000000    0.000000   18.700000    1.100000   \n25%      3.000000    4.000000    1.000000    1.000000   90.200000   68.600000   \n50%      4.000000    4.000000    6.000000    3.000000   91.600000  108.300000   \n75%      7.000000    5.000000   11.000000    4.000000   92.900000  142.400000   \nmax      9.000000    9.000000   11.000000    6.000000   96.200000  291.300000   \n\n               DC         ISI        temp          RH        wind        rain  \\\ncount  517.000000  517.000000  517.000000  517.000000  517.000000  517.000000   \nmean   547.940039    9.021663   18.889168   44.288201    4.017602    0.021663   \nstd    248.066192    4.559477    5.806625   16.317469    1.791653    0.295959   \nmin      7.900000    0.000000    2.200000   15.000000    0.400000    0.000000   \n25%    437.700000    6.500000   15.500000   33.000000    2.700000    0.000000   \n50%    664.200000    8.400000   19.300000   42.000000    4.000000    0.000000   \n75%    713.900000   10.800000   22.800000   53.000000    4.900000    0.000000   \nmax    860.600000   56.100000   33.300000  100.000000    9.400000    6.400000   \n\n              area  \ncount   517.000000  \nmean     12.847292  \nstd      63.655818  \nmin       0.000000  \n25%       0.000000  \n50%       0.520000  \n75%       6.570000  \nmax    1090.840000  ",
      "text/html": "<div>\n<style scoped>\n    .dataframe tbody tr th:only-of-type {\n        vertical-align: middle;\n    }\n\n    .dataframe tbody tr th {\n        vertical-align: top;\n    }\n\n    .dataframe thead th {\n        text-align: right;\n    }\n</style>\n<table border=\"1\" class=\"dataframe\">\n  <thead>\n    <tr style=\"text-align: right;\">\n      <th></th>\n      <th>X</th>\n      <th>Y</th>\n      <th>month</th>\n      <th>day</th>\n      <th>FFMC</th>\n      <th>DMC</th>\n      <th>DC</th>\n      <th>ISI</th>\n      <th>temp</th>\n      <th>RH</th>\n      <th>wind</th>\n      <th>rain</th>\n      <th>area</th>\n    </tr>\n  </thead>\n  <tbody>\n    <tr>\n      <th>count</th>\n      <td>517.000000</td>\n      <td>517.000000</td>\n      <td>517.000000</td>\n      <td>517.000000</td>\n      <td>517.000000</td>\n      <td>517.000000</td>\n      <td>517.000000</td>\n      <td>517.000000</td>\n      <td>517.000000</td>\n      <td>517.000000</td>\n      <td>517.000000</td>\n      <td>517.000000</td>\n      <td>517.000000</td>\n    </tr>\n    <tr>\n      <th>mean</th>\n      <td>4.669246</td>\n      <td>4.299807</td>\n      <td>5.758221</td>\n      <td>2.736944</td>\n      <td>90.644681</td>\n      <td>110.872340</td>\n      <td>547.940039</td>\n      <td>9.021663</td>\n      <td>18.889168</td>\n      <td>44.288201</td>\n      <td>4.017602</td>\n      <td>0.021663</td>\n      <td>12.847292</td>\n    </tr>\n    <tr>\n      <th>std</th>\n      <td>2.313778</td>\n      <td>1.229900</td>\n      <td>4.373275</td>\n      <td>1.925061</td>\n      <td>5.520111</td>\n      <td>64.046482</td>\n      <td>248.066192</td>\n      <td>4.559477</td>\n      <td>5.806625</td>\n      <td>16.317469</td>\n      <td>1.791653</td>\n      <td>0.295959</td>\n      <td>63.655818</td>\n    </tr>\n    <tr>\n      <th>min</th>\n      <td>1.000000</td>\n      <td>2.000000</td>\n      <td>0.000000</td>\n      <td>0.000000</td>\n      <td>18.700000</td>\n      <td>1.100000</td>\n      <td>7.900000</td>\n      <td>0.000000</td>\n      <td>2.200000</td>\n      <td>15.000000</td>\n      <td>0.400000</td>\n      <td>0.000000</td>\n      <td>0.000000</td>\n    </tr>\n    <tr>\n      <th>25%</th>\n      <td>3.000000</td>\n      <td>4.000000</td>\n      <td>1.000000</td>\n      <td>1.000000</td>\n      <td>90.200000</td>\n      <td>68.600000</td>\n      <td>437.700000</td>\n      <td>6.500000</td>\n      <td>15.500000</td>\n      <td>33.000000</td>\n      <td>2.700000</td>\n      <td>0.000000</td>\n      <td>0.000000</td>\n    </tr>\n    <tr>\n      <th>50%</th>\n      <td>4.000000</td>\n      <td>4.000000</td>\n      <td>6.000000</td>\n      <td>3.000000</td>\n      <td>91.600000</td>\n      <td>108.300000</td>\n      <td>664.200000</td>\n      <td>8.400000</td>\n      <td>19.300000</td>\n      <td>42.000000</td>\n      <td>4.000000</td>\n      <td>0.000000</td>\n      <td>0.520000</td>\n    </tr>\n    <tr>\n      <th>75%</th>\n      <td>7.000000</td>\n      <td>5.000000</td>\n      <td>11.000000</td>\n      <td>4.000000</td>\n      <td>92.900000</td>\n      <td>142.400000</td>\n      <td>713.900000</td>\n      <td>10.800000</td>\n      <td>22.800000</td>\n      <td>53.000000</td>\n      <td>4.900000</td>\n      <td>0.000000</td>\n      <td>6.570000</td>\n    </tr>\n    <tr>\n      <th>max</th>\n      <td>9.000000</td>\n      <td>9.000000</td>\n      <td>11.000000</td>\n      <td>6.000000</td>\n      <td>96.200000</td>\n      <td>291.300000</td>\n      <td>860.600000</td>\n      <td>56.100000</td>\n      <td>33.300000</td>\n      <td>100.000000</td>\n      <td>9.400000</td>\n      <td>6.400000</td>\n      <td>1090.840000</td>\n    </tr>\n  </tbody>\n</table>\n</div>"
     },
     "execution_count": 471,
     "metadata": {},
     "output_type": "execute_result"
    }
   ],
   "source": [
    "data.describe()"
   ],
   "metadata": {
    "collapsed": false,
    "pycharm": {
     "name": "#%%\n"
    }
   }
  },
  {
   "cell_type": "code",
   "execution_count": 472,
   "outputs": [
    {
     "data": {
      "text/plain": "array([[-1.32332557, -0.80595947, -1.83047676, ...,  1.49861442,\n        -0.07326831, -0.20201979],\n       [-1.17954077, -0.00810203,  0.48889092, ..., -1.74175564,\n        -0.07326831, -0.20201979],\n       [-1.04982188, -0.00810203,  0.56071545, ..., -1.51828184,\n        -0.07326831, -0.20201979],\n       ...,\n       [-0.84664771, -1.64008316,  0.47476811, ...,  1.49861442,\n        -0.07326831, -0.02653216],\n       [ 0.54900254,  0.68095666,  0.26938221, ..., -0.00983371,\n        -0.07326831, -0.20201979],\n       [-1.68591332, -2.02087875, -1.78044169, ...,  0.26950853,\n        -0.07326831, -0.20201979]])"
     },
     "execution_count": 472,
     "metadata": {},
     "output_type": "execute_result"
    }
   ],
   "source": [
    "from sklearn.preprocessing import StandardScaler\n",
    "\n",
    "scale_features_std = StandardScaler()\n",
    "features_std = scale_features_std.fit_transform(data[['DMC', 'FFMC', 'DC', 'ISI', 'temp', 'RH', 'wind', 'rain', 'area']])\n",
    "features_std"
   ],
   "metadata": {
    "collapsed": false,
    "pycharm": {
     "name": "#%%\n"
    }
   }
  },
  {
   "cell_type": "code",
   "execution_count": 473,
   "outputs": [
    {
     "data": {
      "text/plain": "     X  Y  month  day      FFMC       DMC        DC       ISI      temp  \\\n0    7  5      7    0 -0.805959 -1.323326 -1.830477 -0.860946 -1.842640   \n1    7  4     10    5 -0.008102 -1.179541  0.488891 -0.509688 -0.153278   \n2    7  4     10    2 -0.008102 -1.049822  0.560715 -0.509688 -0.739383   \n3    8  6      7    0  0.191362 -1.212361 -1.898266 -0.004756 -1.825402   \n4    8  6      7    3 -0.243833 -0.931043 -1.798600  0.126966 -1.291012   \n..  .. ..    ...  ...       ...       ...       ...       ...       ...   \n512  4  3      1    3 -1.640083 -0.846648  0.474768 -1.563460  1.536084   \n513  2  4      1    3 -1.640083 -0.846648  0.474768 -1.563460  0.519019   \n514  7  4      1    3 -1.640083 -0.846648  0.474768 -1.563460  0.398350   \n515  1  4      1    2  0.680957  0.549003  0.269382  0.500176  1.156839   \n516  6  3      9    5 -2.020879 -1.685913 -1.780442 -1.739089 -1.222058   \n\n           RH      wind      rain      area  \n0    0.411724  1.498614 -0.073268 -0.202020  \n1   -0.692456 -1.741756 -0.073268 -0.202020  \n2   -0.692456 -1.518282 -0.073268 -0.202020  \n3    3.233519 -0.009834  0.603155 -0.202020  \n4    3.356206 -1.238940 -0.073268 -0.202020  \n..        ...       ...       ...       ...  \n512 -0.753800 -0.736124 -0.073268 -0.100753  \n513  1.638592  0.995798 -0.073268  0.651674  \n514  1.577248  1.498614 -0.073268 -0.026532  \n515 -0.140366 -0.009834 -0.073268 -0.202020  \n516 -0.815143  0.269509 -0.073268 -0.202020  \n\n[517 rows x 13 columns]",
      "text/html": "<div>\n<style scoped>\n    .dataframe tbody tr th:only-of-type {\n        vertical-align: middle;\n    }\n\n    .dataframe tbody tr th {\n        vertical-align: top;\n    }\n\n    .dataframe thead th {\n        text-align: right;\n    }\n</style>\n<table border=\"1\" class=\"dataframe\">\n  <thead>\n    <tr style=\"text-align: right;\">\n      <th></th>\n      <th>X</th>\n      <th>Y</th>\n      <th>month</th>\n      <th>day</th>\n      <th>FFMC</th>\n      <th>DMC</th>\n      <th>DC</th>\n      <th>ISI</th>\n      <th>temp</th>\n      <th>RH</th>\n      <th>wind</th>\n      <th>rain</th>\n      <th>area</th>\n    </tr>\n  </thead>\n  <tbody>\n    <tr>\n      <th>0</th>\n      <td>7</td>\n      <td>5</td>\n      <td>7</td>\n      <td>0</td>\n      <td>-0.805959</td>\n      <td>-1.323326</td>\n      <td>-1.830477</td>\n      <td>-0.860946</td>\n      <td>-1.842640</td>\n      <td>0.411724</td>\n      <td>1.498614</td>\n      <td>-0.073268</td>\n      <td>-0.202020</td>\n    </tr>\n    <tr>\n      <th>1</th>\n      <td>7</td>\n      <td>4</td>\n      <td>10</td>\n      <td>5</td>\n      <td>-0.008102</td>\n      <td>-1.179541</td>\n      <td>0.488891</td>\n      <td>-0.509688</td>\n      <td>-0.153278</td>\n      <td>-0.692456</td>\n      <td>-1.741756</td>\n      <td>-0.073268</td>\n      <td>-0.202020</td>\n    </tr>\n    <tr>\n      <th>2</th>\n      <td>7</td>\n      <td>4</td>\n      <td>10</td>\n      <td>2</td>\n      <td>-0.008102</td>\n      <td>-1.049822</td>\n      <td>0.560715</td>\n      <td>-0.509688</td>\n      <td>-0.739383</td>\n      <td>-0.692456</td>\n      <td>-1.518282</td>\n      <td>-0.073268</td>\n      <td>-0.202020</td>\n    </tr>\n    <tr>\n      <th>3</th>\n      <td>8</td>\n      <td>6</td>\n      <td>7</td>\n      <td>0</td>\n      <td>0.191362</td>\n      <td>-1.212361</td>\n      <td>-1.898266</td>\n      <td>-0.004756</td>\n      <td>-1.825402</td>\n      <td>3.233519</td>\n      <td>-0.009834</td>\n      <td>0.603155</td>\n      <td>-0.202020</td>\n    </tr>\n    <tr>\n      <th>4</th>\n      <td>8</td>\n      <td>6</td>\n      <td>7</td>\n      <td>3</td>\n      <td>-0.243833</td>\n      <td>-0.931043</td>\n      <td>-1.798600</td>\n      <td>0.126966</td>\n      <td>-1.291012</td>\n      <td>3.356206</td>\n      <td>-1.238940</td>\n      <td>-0.073268</td>\n      <td>-0.202020</td>\n    </tr>\n    <tr>\n      <th>...</th>\n      <td>...</td>\n      <td>...</td>\n      <td>...</td>\n      <td>...</td>\n      <td>...</td>\n      <td>...</td>\n      <td>...</td>\n      <td>...</td>\n      <td>...</td>\n      <td>...</td>\n      <td>...</td>\n      <td>...</td>\n      <td>...</td>\n    </tr>\n    <tr>\n      <th>512</th>\n      <td>4</td>\n      <td>3</td>\n      <td>1</td>\n      <td>3</td>\n      <td>-1.640083</td>\n      <td>-0.846648</td>\n      <td>0.474768</td>\n      <td>-1.563460</td>\n      <td>1.536084</td>\n      <td>-0.753800</td>\n      <td>-0.736124</td>\n      <td>-0.073268</td>\n      <td>-0.100753</td>\n    </tr>\n    <tr>\n      <th>513</th>\n      <td>2</td>\n      <td>4</td>\n      <td>1</td>\n      <td>3</td>\n      <td>-1.640083</td>\n      <td>-0.846648</td>\n      <td>0.474768</td>\n      <td>-1.563460</td>\n      <td>0.519019</td>\n      <td>1.638592</td>\n      <td>0.995798</td>\n      <td>-0.073268</td>\n      <td>0.651674</td>\n    </tr>\n    <tr>\n      <th>514</th>\n      <td>7</td>\n      <td>4</td>\n      <td>1</td>\n      <td>3</td>\n      <td>-1.640083</td>\n      <td>-0.846648</td>\n      <td>0.474768</td>\n      <td>-1.563460</td>\n      <td>0.398350</td>\n      <td>1.577248</td>\n      <td>1.498614</td>\n      <td>-0.073268</td>\n      <td>-0.026532</td>\n    </tr>\n    <tr>\n      <th>515</th>\n      <td>1</td>\n      <td>4</td>\n      <td>1</td>\n      <td>2</td>\n      <td>0.680957</td>\n      <td>0.549003</td>\n      <td>0.269382</td>\n      <td>0.500176</td>\n      <td>1.156839</td>\n      <td>-0.140366</td>\n      <td>-0.009834</td>\n      <td>-0.073268</td>\n      <td>-0.202020</td>\n    </tr>\n    <tr>\n      <th>516</th>\n      <td>6</td>\n      <td>3</td>\n      <td>9</td>\n      <td>5</td>\n      <td>-2.020879</td>\n      <td>-1.685913</td>\n      <td>-1.780442</td>\n      <td>-1.739089</td>\n      <td>-1.222058</td>\n      <td>-0.815143</td>\n      <td>0.269509</td>\n      <td>-0.073268</td>\n      <td>-0.202020</td>\n    </tr>\n  </tbody>\n</table>\n<p>517 rows × 13 columns</p>\n</div>"
     },
     "execution_count": 473,
     "metadata": {},
     "output_type": "execute_result"
    }
   ],
   "source": [
    "data[['DMC', 'FFMC', 'DC', 'ISI', 'temp', 'RH', 'wind', 'rain', 'area']] = features_std\n",
    "data"
   ],
   "metadata": {
    "collapsed": false,
    "pycharm": {
     "name": "#%%\n"
    }
   }
  },
  {
   "cell_type": "code",
   "execution_count": 474,
   "outputs": [
    {
     "data": {
      "text/plain": "                X           Y       month         day          FFMC  \\\ncount  517.000000  517.000000  517.000000  517.000000  5.170000e+02   \nmean     4.669246    4.299807    5.758221    2.736944 -1.754024e-15   \nstd      2.313778    1.229900    4.373275    1.925061  1.000969e+00   \nmin      1.000000    2.000000    0.000000    0.000000 -1.304582e+01   \n25%      3.000000    4.000000    1.000000    1.000000 -8.063453e-02   \n50%      4.000000    4.000000    6.000000    3.000000  1.732292e-01   \n75%      7.000000    5.000000   11.000000    4.000000  4.089598e-01   \nmax      9.000000    9.000000   11.000000    6.000000  1.007353e+00   \n\n                DMC            DC           ISI          temp            RH  \\\ncount  5.170000e+02  5.170000e+02  5.170000e+02  5.170000e+02  5.170000e+02   \nmean   3.070830e-16  7.387171e-17 -3.865380e-17  2.005703e-16  3.362881e-16   \nstd    1.000969e+00  1.000969e+00  1.000969e+00  1.000969e+00  1.000969e+00   \nmin   -1.715608e+00 -2.179108e+00 -1.980578e+00 -2.876943e+00 -1.796637e+00   \n25%   -6.606652e-01 -4.448281e-01 -5.535954e-01 -5.842379e-01 -6.924563e-01   \n50%   -4.020255e-02  4.691190e-01 -1.364774e-01  7.082076e-02 -1.403660e-01   \n75%    4.927389e-01  6.696628e-01  3.904086e-01  6.741643e-01  5.344111e-01   \nmax    2.819865e+00  1.261610e+00  1.033538e+01  2.484195e+00  3.417549e+00   \n\n               wind          rain          area  \ncount  5.170000e+02  5.170000e+02  5.170000e+02  \nmean  -2.676776e-16 -2.841054e-16 -1.274502e-16  \nstd    1.000969e+00  1.000969e+00  1.000969e+00  \nmin   -2.021098e+00 -7.326831e-02 -2.020198e-01  \n25%   -7.361236e-01 -7.326831e-02 -2.020198e-01  \n50%   -9.833712e-03 -7.326831e-02 -1.938429e-01  \n75%    4.929823e-01 -7.326831e-02 -9.870852e-02  \nmax    3.007063e+00  2.157228e+01  1.695111e+01  ",
      "text/html": "<div>\n<style scoped>\n    .dataframe tbody tr th:only-of-type {\n        vertical-align: middle;\n    }\n\n    .dataframe tbody tr th {\n        vertical-align: top;\n    }\n\n    .dataframe thead th {\n        text-align: right;\n    }\n</style>\n<table border=\"1\" class=\"dataframe\">\n  <thead>\n    <tr style=\"text-align: right;\">\n      <th></th>\n      <th>X</th>\n      <th>Y</th>\n      <th>month</th>\n      <th>day</th>\n      <th>FFMC</th>\n      <th>DMC</th>\n      <th>DC</th>\n      <th>ISI</th>\n      <th>temp</th>\n      <th>RH</th>\n      <th>wind</th>\n      <th>rain</th>\n      <th>area</th>\n    </tr>\n  </thead>\n  <tbody>\n    <tr>\n      <th>count</th>\n      <td>517.000000</td>\n      <td>517.000000</td>\n      <td>517.000000</td>\n      <td>517.000000</td>\n      <td>5.170000e+02</td>\n      <td>5.170000e+02</td>\n      <td>5.170000e+02</td>\n      <td>5.170000e+02</td>\n      <td>5.170000e+02</td>\n      <td>5.170000e+02</td>\n      <td>5.170000e+02</td>\n      <td>5.170000e+02</td>\n      <td>5.170000e+02</td>\n    </tr>\n    <tr>\n      <th>mean</th>\n      <td>4.669246</td>\n      <td>4.299807</td>\n      <td>5.758221</td>\n      <td>2.736944</td>\n      <td>-1.754024e-15</td>\n      <td>3.070830e-16</td>\n      <td>7.387171e-17</td>\n      <td>-3.865380e-17</td>\n      <td>2.005703e-16</td>\n      <td>3.362881e-16</td>\n      <td>-2.676776e-16</td>\n      <td>-2.841054e-16</td>\n      <td>-1.274502e-16</td>\n    </tr>\n    <tr>\n      <th>std</th>\n      <td>2.313778</td>\n      <td>1.229900</td>\n      <td>4.373275</td>\n      <td>1.925061</td>\n      <td>1.000969e+00</td>\n      <td>1.000969e+00</td>\n      <td>1.000969e+00</td>\n      <td>1.000969e+00</td>\n      <td>1.000969e+00</td>\n      <td>1.000969e+00</td>\n      <td>1.000969e+00</td>\n      <td>1.000969e+00</td>\n      <td>1.000969e+00</td>\n    </tr>\n    <tr>\n      <th>min</th>\n      <td>1.000000</td>\n      <td>2.000000</td>\n      <td>0.000000</td>\n      <td>0.000000</td>\n      <td>-1.304582e+01</td>\n      <td>-1.715608e+00</td>\n      <td>-2.179108e+00</td>\n      <td>-1.980578e+00</td>\n      <td>-2.876943e+00</td>\n      <td>-1.796637e+00</td>\n      <td>-2.021098e+00</td>\n      <td>-7.326831e-02</td>\n      <td>-2.020198e-01</td>\n    </tr>\n    <tr>\n      <th>25%</th>\n      <td>3.000000</td>\n      <td>4.000000</td>\n      <td>1.000000</td>\n      <td>1.000000</td>\n      <td>-8.063453e-02</td>\n      <td>-6.606652e-01</td>\n      <td>-4.448281e-01</td>\n      <td>-5.535954e-01</td>\n      <td>-5.842379e-01</td>\n      <td>-6.924563e-01</td>\n      <td>-7.361236e-01</td>\n      <td>-7.326831e-02</td>\n      <td>-2.020198e-01</td>\n    </tr>\n    <tr>\n      <th>50%</th>\n      <td>4.000000</td>\n      <td>4.000000</td>\n      <td>6.000000</td>\n      <td>3.000000</td>\n      <td>1.732292e-01</td>\n      <td>-4.020255e-02</td>\n      <td>4.691190e-01</td>\n      <td>-1.364774e-01</td>\n      <td>7.082076e-02</td>\n      <td>-1.403660e-01</td>\n      <td>-9.833712e-03</td>\n      <td>-7.326831e-02</td>\n      <td>-1.938429e-01</td>\n    </tr>\n    <tr>\n      <th>75%</th>\n      <td>7.000000</td>\n      <td>5.000000</td>\n      <td>11.000000</td>\n      <td>4.000000</td>\n      <td>4.089598e-01</td>\n      <td>4.927389e-01</td>\n      <td>6.696628e-01</td>\n      <td>3.904086e-01</td>\n      <td>6.741643e-01</td>\n      <td>5.344111e-01</td>\n      <td>4.929823e-01</td>\n      <td>-7.326831e-02</td>\n      <td>-9.870852e-02</td>\n    </tr>\n    <tr>\n      <th>max</th>\n      <td>9.000000</td>\n      <td>9.000000</td>\n      <td>11.000000</td>\n      <td>6.000000</td>\n      <td>1.007353e+00</td>\n      <td>2.819865e+00</td>\n      <td>1.261610e+00</td>\n      <td>1.033538e+01</td>\n      <td>2.484195e+00</td>\n      <td>3.417549e+00</td>\n      <td>3.007063e+00</td>\n      <td>2.157228e+01</td>\n      <td>1.695111e+01</td>\n    </tr>\n  </tbody>\n</table>\n</div>"
     },
     "execution_count": 474,
     "metadata": {},
     "output_type": "execute_result"
    }
   ],
   "source": [
    "data.describe()"
   ],
   "metadata": {
    "collapsed": false,
    "pycharm": {
     "name": "#%%\n"
    }
   }
  },
  {
   "cell_type": "code",
   "execution_count": 475,
   "outputs": [],
   "source": [
    "target = data.area\n",
    "train = data.drop(['X', 'Y', 'day', 'area'], axis=1)"
   ],
   "metadata": {
    "collapsed": false,
    "pycharm": {
     "name": "#%%\n"
    }
   }
  },
  {
   "cell_type": "markdown",
   "source": [
    "Столбец с целевым признаком - area"
   ],
   "metadata": {
    "collapsed": false,
    "pycharm": {
     "name": "#%% md\n"
    }
   }
  },
  {
   "cell_type": "code",
   "execution_count": 476,
   "outputs": [
    {
     "name": "stdout",
     "output_type": "stream",
     "text": [
      "361 156\n"
     ]
    }
   ],
   "source": [
    "from sklearn.model_selection import train_test_split\n",
    "X_train, X_test, y_train, y_test = train_test_split(train, target, test_size = 0.3, random_state = 42)\n",
    "\n",
    "N_train, _ = X_train.shape\n",
    "N_test,  _ = X_test.shape\n",
    "print(N_train, N_test) # 361 156"
   ],
   "metadata": {
    "collapsed": false,
    "pycharm": {
     "name": "#%%\n"
    }
   }
  },
  {
   "cell_type": "code",
   "execution_count": 477,
   "outputs": [
    {
     "data": {
      "text/plain": "<Figure size 960x800 with 2 Axes>",
      "image/png": "[encoded data removed]"
     },
     "metadata": {},
     "output_type": "display_data"
    }
   ],
   "source": [
    "import seaborn as sns\n",
    "import matplotlib.pyplot as plt\n",
    "\n",
    "# Plot\n",
    "plt.figure(figsize=(12,10), dpi= 80)\n",
    "sns.heatmap(data.corr(), xticklabels=data.corr().columns, yticklabels=data.corr().columns, cmap='YlGnBu', center=0, annot=True,linewidths=.5)\n",
    "\n",
    "# Decorations\n",
    "plt.xticks(fontsize=12)\n",
    "plt.yticks(fontsize=12)\n",
    "plt.show()"
   ],
   "metadata": {
    "collapsed": false,
    "pycharm": {
     "name": "#%%\n"
    }
   }
  },
  {
   "cell_type": "markdown",
   "source": [
    "Наблюдается зависимости:\n",
    "а) Отрицательные между: RH и temp, RH и FFMC\n",
    "б) Положительные между: Х и У, DC и DMC, FFMC и ISI, DMC и temp, FFMC и temp"
   ],
   "metadata": {
    "collapsed": false,
    "pycharm": {
     "name": "#%% md\n"
    }
   }
  },
  {
   "cell_type": "markdown",
   "source": [
    "Построим линейные регрессии с помощью метода наименьших квадратов и введем в модели функции логарифма и степени"
   ],
   "metadata": {
    "collapsed": false,
    "pycharm": {
     "name": "#%% md\n"
    }
   }
  },
  {
   "cell_type": "code",
   "execution_count": 478,
   "outputs": [
    {
     "name": "stdout",
     "output_type": "stream",
     "text": [
      "                            OLS Regression Results                            \n",
      "==============================================================================\n",
      "Dep. Variable:                   area   R-squared:                       0.025\n",
      "Model:                            OLS   Adj. R-squared:                  0.002\n",
      "Method:                 Least Squares   F-statistic:                     1.065\n",
      "Date:                Mon, 27 Jun 2022   Prob (F-statistic):              0.388\n",
      "Time:                        16:22:37   Log-Likelihood:                -727.12\n",
      "No. Observations:                 517   AIC:                             1480.\n",
      "Df Residuals:                     504   BIC:                             1535.\n",
      "Df Model:                          12                                         \n",
      "Covariance Type:            nonrobust                                         \n",
      "==============================================================================\n",
      "                 coef    std err          t      P>|t|      [0.025      0.975]\n",
      "------------------------------------------------------------------------------\n",
      "const         -0.2834      0.189     -1.499      0.134      -0.655       0.088\n",
      "X              0.0296      0.023      1.298      0.195      -0.015       0.074\n",
      "Y              0.0083      0.043      0.192      0.848      -0.076       0.093\n",
      "month          0.0153      0.012      1.254      0.210      -0.009       0.039\n",
      "day            0.0079      0.024      0.334      0.739      -0.038       0.054\n",
      "FFMC          -0.0093      0.058     -0.162      0.872      -0.122       0.104\n",
      "DMC            0.1105      0.072      1.524      0.128      -0.032       0.253\n",
      "DC            -0.0570      0.073     -0.779      0.437      -0.201       0.087\n",
      "ISI           -0.0438      0.056     -0.784      0.433      -0.153       0.066\n",
      "temp           0.0894      0.073      1.222      0.222      -0.054       0.233\n",
      "RH            -0.0474      0.062     -0.770      0.442      -0.168       0.074\n",
      "wind           0.0502      0.047      1.061      0.289      -0.043       0.143\n",
      "rain          -0.0151      0.045     -0.335      0.738      -0.104       0.073\n",
      "==============================================================================\n",
      "Omnibus:                      973.770   Durbin-Watson:                   1.653\n",
      "Prob(Omnibus):                  0.000   Jarque-Bera (JB):           774411.201\n",
      "Skew:                          12.537   Prob(JB):                         0.00\n",
      "Kurtosis:                     190.938   Cond. No.                         41.9\n",
      "==============================================================================\n",
      "\n",
      "Notes:\n",
      "[1] Standard Errors assume that the covariance matrix of the errors is correctly specified.\n"
     ]
    }
   ],
   "source": [
    "import statsmodels.api as sm\n",
    "\n",
    "X_train_sm = data.drop(['area'], axis=1)\n",
    "X_train_sm = sm.add_constant(X_train_sm)\n",
    "y_train = data.area\n",
    "model = sm.OLS(y_train, X_train_sm).fit()\n",
    "\n",
    "print(model.summary())"
   ],
   "metadata": {
    "collapsed": false,
    "pycharm": {
     "name": "#%%\n"
    }
   }
  },
  {
   "cell_type": "code",
   "execution_count": 479,
   "outputs": [
    {
     "name": "stdout",
     "output_type": "stream",
     "text": [
      "   feature        VIF\n",
      "0        X   7.278599\n",
      "1        Y  10.813263\n",
      "2      day   2.767549\n",
      "3    month   3.354507\n",
      "4      DMC   2.698339\n",
      "5     FFMC   1.711522\n",
      "6       DC   2.748814\n",
      "7      ISI   1.607643\n",
      "8     temp   2.764731\n",
      "9       RH   1.958534\n",
      "10    wind   1.148289\n",
      "11    rain   1.049804\n"
     ]
    }
   ],
   "source": [
    "from statsmodels.stats.outliers_influence import variance_inflation_factor\n",
    "\n",
    "X = data[['X', 'Y', 'day', 'month', 'DMC', 'FFMC', 'DC', 'ISI', 'temp', 'RH', 'wind', 'rain']]\n",
    "\n",
    "vif_data = pd.DataFrame()\n",
    "vif_data[\"feature\"] = X.columns\n",
    "\n",
    "# посчитаем значение VIF параметров\n",
    "vif_data[\"VIF\"] = [variance_inflation_factor(X.values, i) for i in range(len(X.columns))]\n",
    "\n",
    "print(vif_data)"
   ],
   "metadata": {
    "collapsed": false,
    "pycharm": {
     "name": "#%%\n"
    }
   }
  },
  {
   "cell_type": "markdown",
   "source": [
    "значение VIF параметров X, Y больше 7.27, уберем параметр Y"
   ],
   "metadata": {
    "collapsed": false,
    "pycharm": {
     "name": "#%% md\n"
    }
   }
  },
  {
   "cell_type": "code",
   "execution_count": 480,
   "outputs": [
    {
     "name": "stdout",
     "output_type": "stream",
     "text": [
      "   feature       VIF\n",
      "0        X  3.194730\n",
      "1      day  2.301874\n",
      "2    month  2.810390\n",
      "3      DMC  2.575068\n",
      "4     FFMC  1.706059\n",
      "5       DC  2.596450\n",
      "6      ISI  1.607605\n",
      "7     temp  2.755170\n",
      "8       RH  1.955450\n",
      "9     wind  1.147968\n",
      "10    rain  1.048495\n"
     ]
    }
   ],
   "source": [
    "X = data[['X', 'day', 'month', 'DMC', 'FFMC', 'DC', 'ISI', 'temp', 'RH', 'wind', 'rain']]\n",
    "\n",
    "vif_data = pd.DataFrame()\n",
    "vif_data[\"feature\"] = X.columns\n",
    "\n",
    "# посчитаем значение VIF параметров\n",
    "vif_data[\"VIF\"] = [variance_inflation_factor(X.values, i) for i in range(len(X.columns))]\n",
    "\n",
    "print(vif_data)"
   ],
   "metadata": {
    "collapsed": false,
    "pycharm": {
     "name": "#%%\n"
    }
   }
  },
  {
   "cell_type": "code",
   "execution_count": 481,
   "outputs": [
    {
     "name": "stdout",
     "output_type": "stream",
     "text": [
      "                            OLS Regression Results                            \n",
      "==============================================================================\n",
      "Dep. Variable:                   area   R-squared:                       0.024\n",
      "Model:                            OLS   Adj. R-squared:                  0.003\n",
      "Method:                 Least Squares   F-statistic:                     1.125\n",
      "Date:                Mon, 27 Jun 2022   Prob (F-statistic):              0.339\n",
      "Time:                        16:22:38   Log-Likelihood:                -727.33\n",
      "No. Observations:                 517   AIC:                             1479.\n",
      "Df Residuals:                     505   BIC:                             1530.\n",
      "Df Model:                          11                                         \n",
      "Covariance Type:            nonrobust                                         \n",
      "==============================================================================\n",
      "                 coef    std err          t      P>|t|      [0.025      0.975]\n",
      "------------------------------------------------------------------------------\n",
      "const         -0.2594      0.142     -1.828      0.068      -0.538       0.019\n",
      "X              0.0320      0.019      1.662      0.097      -0.006       0.070\n",
      "month          0.0164      0.012      1.353      0.177      -0.007       0.040\n",
      "day            0.0074      0.023      0.315      0.753      -0.039       0.054\n",
      "FFMC          -0.0302      0.052     -0.585      0.559      -0.132       0.071\n",
      "DMC            0.1135      0.072      1.576      0.116      -0.028       0.255\n",
      "DC            -0.0620      0.073     -0.850      0.396      -0.205       0.081\n",
      "ISI           -0.0045      0.009     -0.491      0.624      -0.023       0.014\n",
      "temp           0.0788      0.071      1.107      0.269      -0.061       0.219\n",
      "RH            -0.0527      0.061     -0.864      0.388      -0.173       0.067\n",
      "wind           0.0436      0.046      0.940      0.348      -0.048       0.135\n",
      "rain          -0.0148      0.045     -0.329      0.742      -0.103       0.074\n",
      "==============================================================================\n",
      "Omnibus:                      973.808   Durbin-Watson:                   1.652\n",
      "Prob(Omnibus):                  0.000   Jarque-Bera (JB):           774648.310\n",
      "Skew:                          12.538   Prob(JB):                         0.00\n",
      "Kurtosis:                     190.967   Cond. No.                         29.1\n",
      "==============================================================================\n",
      "\n",
      "Notes:\n",
      "[1] Standard Errors assume that the covariance matrix of the errors is correctly specified.\n"
     ]
    }
   ],
   "source": [
    "X_train_sm = data.drop(['area', 'Y'], axis = 1)\n",
    "\n",
    "for i in range(len(X_train_sm['ISI'])):\n",
    "    X_train_sm['ISI'][i] = X_train_sm['ISI'][i] * X_train_sm['ISI'][i]\n",
    "\n",
    "X_train_copy = sm.add_constant(X_train_sm)\n",
    "model = sm.OLS(y_train, X_train_copy).fit()\n",
    "\n",
    "print(model.summary())"
   ],
   "metadata": {
    "collapsed": false,
    "pycharm": {
     "name": "#%%\n"
    }
   }
  },
  {
   "cell_type": "code",
   "execution_count": 482,
   "outputs": [
    {
     "name": "stdout",
     "output_type": "stream",
     "text": [
      "                            OLS Regression Results                            \n",
      "==============================================================================\n",
      "Dep. Variable:                   area   R-squared:                       0.024\n",
      "Model:                            OLS   Adj. R-squared:                  0.002\n",
      "Method:                 Least Squares   F-statistic:                     1.117\n",
      "Date:                Mon, 27 Jun 2022   Prob (F-statistic):              0.345\n",
      "Time:                        16:22:38   Log-Likelihood:                -727.38\n",
      "No. Observations:                 517   AIC:                             1479.\n",
      "Df Residuals:                     505   BIC:                             1530.\n",
      "Df Model:                          11                                         \n",
      "Covariance Type:            nonrobust                                         \n",
      "==============================================================================\n",
      "                 coef    std err          t      P>|t|      [0.025      0.975]\n",
      "------------------------------------------------------------------------------\n",
      "const         -0.2636      0.142     -1.858      0.064      -0.542       0.015\n",
      "X              0.0319      0.019      1.660      0.097      -0.006       0.070\n",
      "month          0.0166      0.012      1.372      0.171      -0.007       0.040\n",
      "day            0.0072      0.023      0.305      0.761      -0.039       0.053\n",
      "FFMC          -0.0285      0.052     -0.552      0.581      -0.130       0.073\n",
      "DMC            0.1146      0.072      1.591      0.112      -0.027       0.256\n",
      "DC            -0.0619      0.073     -0.848      0.397      -0.205       0.081\n",
      "ISI           -0.0004      0.001     -0.396      0.693      -0.002       0.001\n",
      "temp           0.0774      0.071      1.090      0.276      -0.062       0.217\n",
      "RH            -0.0532      0.061     -0.873      0.383      -0.173       0.067\n",
      "wind           0.0428      0.046      0.924      0.356      -0.048       0.134\n",
      "rain          -0.0148      0.045     -0.328      0.743      -0.103       0.074\n",
      "==============================================================================\n",
      "Omnibus:                      973.837   Durbin-Watson:                   1.651\n",
      "Prob(Omnibus):                  0.000   Jarque-Bera (JB):           774748.818\n",
      "Skew:                          12.539   Prob(JB):                         0.00\n",
      "Kurtosis:                     190.979   Cond. No.                         162.\n",
      "==============================================================================\n",
      "\n",
      "Notes:\n",
      "[1] Standard Errors assume that the covariance matrix of the errors is correctly specified.\n"
     ]
    }
   ],
   "source": [
    "import math\n",
    "\n",
    "X_train_sm = data.drop(['area', 'Y'], axis = 1)\n",
    "\n",
    "for i in range(len(X_train_sm['ISI'])):\n",
    "    X_train_sm['ISI'][i] = X_train_sm['ISI'][i] * X_train_sm['ISI'][i] * X_train_sm['ISI'][i]\n",
    "\n",
    "X_train_copy = sm.add_constant(X_train_sm)\n",
    "model = sm.OLS(y_train, X_train_copy).fit()\n",
    "\n",
    "print(model.summary())"
   ],
   "metadata": {
    "collapsed": false,
    "pycharm": {
     "name": "#%%\n"
    }
   }
  },
  {
   "cell_type": "code",
   "execution_count": 483,
   "outputs": [
    {
     "name": "stdout",
     "output_type": "stream",
     "text": [
      "                            OLS Regression Results                            \n",
      "==============================================================================\n",
      "Dep. Variable:                   area   R-squared:                       0.024\n",
      "Model:                            OLS   Adj. R-squared:                  0.002\n",
      "Method:                 Least Squares   F-statistic:                     1.107\n",
      "Date:                Mon, 27 Jun 2022   Prob (F-statistic):              0.354\n",
      "Time:                        16:22:38   Log-Likelihood:                -727.43\n",
      "No. Observations:                 517   AIC:                             1479.\n",
      "Df Residuals:                     505   BIC:                             1530.\n",
      "Df Model:                          11                                         \n",
      "Covariance Type:            nonrobust                                         \n",
      "==============================================================================\n",
      "                 coef    std err          t      P>|t|      [0.025      0.975]\n",
      "------------------------------------------------------------------------------\n",
      "const         -0.2901      0.148     -1.962      0.050      -0.581       0.000\n",
      "X              0.0328      0.019      1.706      0.089      -0.005       0.071\n",
      "month          0.0144      0.012      1.187      0.236      -0.009       0.038\n",
      "day            0.0082      0.024      0.347      0.729      -0.038       0.054\n",
      "FFMC          -0.0025      0.058     -0.043      0.966      -0.117       0.112\n",
      "DMC            0.1319      0.070      1.876      0.061      -0.006       0.270\n",
      "DC            -0.0237      0.070     -0.338      0.736      -0.162       0.114\n",
      "ISI           -0.0272      0.054     -0.502      0.616      -0.133       0.079\n",
      "temp           0.0317      0.033      0.965      0.335      -0.033       0.096\n",
      "RH            -0.0933      0.048     -1.933      0.054      -0.188       0.002\n",
      "wind           0.0328      0.046      0.714      0.475      -0.058       0.123\n",
      "rain          -0.0089      0.045     -0.199      0.843      -0.097       0.079\n",
      "==============================================================================\n",
      "Omnibus:                      974.469   Durbin-Watson:                   1.647\n",
      "Prob(Omnibus):                  0.000   Jarque-Bera (JB):           777415.014\n",
      "Skew:                          12.555   Prob(JB):                         0.00\n",
      "Kurtosis:                     191.304   Cond. No.                         30.0\n",
      "==============================================================================\n",
      "\n",
      "Notes:\n",
      "[1] Standard Errors assume that the covariance matrix of the errors is correctly specified.\n"
     ]
    }
   ],
   "source": [
    "X_train_sm = data.drop(['area', 'Y'], axis = 1)\n",
    "\n",
    "for i in range(len(X_train_sm['temp'])):\n",
    "    X_train_sm['temp'][i] = X_train_sm['temp'][i] * X_train_sm['temp'][i]\n",
    "\n",
    "X_train_copy = sm.add_constant(X_train_sm)\n",
    "model = sm.OLS(y_train, X_train_copy).fit()\n",
    "\n",
    "print(model.summary())"
   ],
   "metadata": {
    "collapsed": false,
    "pycharm": {
     "name": "#%%\n"
    }
   }
  },
  {
   "cell_type": "code",
   "execution_count": 484,
   "outputs": [
    {
     "name": "stdout",
     "output_type": "stream",
     "text": [
      "                            OLS Regression Results                            \n",
      "==============================================================================\n",
      "Dep. Variable:                   area   R-squared:                       0.020\n",
      "Model:                            OLS   Adj. R-squared:                 -0.001\n",
      "Method:                 Least Squares   F-statistic:                    0.9574\n",
      "Date:                Mon, 27 Jun 2022   Prob (F-statistic):              0.485\n",
      "Time:                        16:22:39   Log-Likelihood:                -728.26\n",
      "No. Observations:                 517   AIC:                             1481.\n",
      "Df Residuals:                     505   BIC:                             1531.\n",
      "Df Model:                          11                                         \n",
      "Covariance Type:            nonrobust                                         \n",
      "==============================================================================\n",
      "                 coef    std err          t      P>|t|      [0.025      0.975]\n",
      "------------------------------------------------------------------------------\n",
      "const         -0.2336      0.145     -1.615      0.107      -0.518       0.051\n",
      "X              0.0309      0.019      1.597      0.111      -0.007       0.069\n",
      "month          0.0095      0.012      0.822      0.412      -0.013       0.032\n",
      "day            0.0070      0.024      0.299      0.765      -0.039       0.053\n",
      "FFMC           0.0097      0.056      0.172      0.863      -0.101       0.120\n",
      "DMC            0.0153      0.032      0.478      0.633      -0.048       0.078\n",
      "DC             0.0065      0.059      0.111      0.912      -0.109       0.122\n",
      "ISI           -0.0415      0.057     -0.729      0.466      -0.153       0.070\n",
      "temp           0.1166      0.072      1.629      0.104      -0.024       0.257\n",
      "RH            -0.0235      0.060     -0.395      0.693      -0.140       0.093\n",
      "wind           0.0502      0.047      1.059      0.290      -0.043       0.143\n",
      "rain          -0.0165      0.045     -0.365      0.715      -0.105       0.072\n",
      "==============================================================================\n",
      "Omnibus:                      974.666   Durbin-Watson:                   1.652\n",
      "Prob(Omnibus):                  0.000   Jarque-Bera (JB):           775304.604\n",
      "Skew:                          12.563   Prob(JB):                         0.00\n",
      "Kurtosis:                     191.042   Cond. No.                         29.2\n",
      "==============================================================================\n",
      "\n",
      "Notes:\n",
      "[1] Standard Errors assume that the covariance matrix of the errors is correctly specified.\n"
     ]
    }
   ],
   "source": [
    "X_train_sm = data.drop(['area', 'Y'], axis = 1)\n",
    "\n",
    "for i in range(len(X_train_sm['DMC'])):\n",
    "    X_train_sm['DMC'][i] = X_train_sm['DMC'][i] * X_train_sm['DMC'][i]\n",
    "\n",
    "X_train_copy = sm.add_constant(X_train_sm)\n",
    "model = sm.OLS(y_train, X_train_copy).fit()\n",
    "\n",
    "print(model.summary())"
   ],
   "metadata": {
    "collapsed": false,
    "pycharm": {
     "name": "#%%\n"
    }
   }
  },
  {
   "cell_type": "code",
   "execution_count": 485,
   "outputs": [
    {
     "name": "stdout",
     "output_type": "stream",
     "text": [
      "                            OLS Regression Results                            \n",
      "==============================================================================\n",
      "Dep. Variable:                   area   R-squared:                       0.020\n",
      "Model:                            OLS   Adj. R-squared:                 -0.001\n",
      "Method:                 Least Squares   F-statistic:                    0.9437\n",
      "Date:                Mon, 27 Jun 2022   Prob (F-statistic):              0.498\n",
      "Time:                        16:22:39   Log-Likelihood:                -728.33\n",
      "No. Observations:                 517   AIC:                             1481.\n",
      "Df Residuals:                     505   BIC:                             1532.\n",
      "Df Model:                          11                                         \n",
      "Covariance Type:            nonrobust                                         \n",
      "==============================================================================\n",
      "                 coef    std err          t      P>|t|      [0.025      0.975]\n",
      "------------------------------------------------------------------------------\n",
      "const         -0.2205      0.141     -1.568      0.118      -0.497       0.056\n",
      "X              0.0319      0.019      1.654      0.099      -0.006       0.070\n",
      "month          0.0082      0.011      0.717      0.474      -0.014       0.031\n",
      "day            0.0057      0.024      0.241      0.810      -0.041       0.052\n",
      "FFMC           0.0101      0.056      0.180      0.857      -0.100       0.121\n",
      "DMC           -0.0092      0.032     -0.285      0.775      -0.073       0.054\n",
      "DC             0.0084      0.059      0.143      0.886      -0.107       0.124\n",
      "ISI           -0.0467      0.056     -0.836      0.403      -0.156       0.063\n",
      "temp           0.1178      0.072      1.628      0.104      -0.024       0.260\n",
      "RH            -0.0182      0.060     -0.302      0.763      -0.136       0.100\n",
      "wind           0.0523      0.047      1.105      0.270      -0.041       0.145\n",
      "rain          -0.0166      0.045     -0.368      0.713      -0.105       0.072\n",
      "==============================================================================\n",
      "Omnibus:                      974.179   Durbin-Watson:                   1.650\n",
      "Prob(Omnibus):                  0.000   Jarque-Bera (JB):           771511.928\n",
      "Skew:                          12.551   Prob(JB):                         0.00\n",
      "Kurtosis:                     190.576   Cond. No.                         28.4\n",
      "==============================================================================\n",
      "\n",
      "Notes:\n",
      "[1] Standard Errors assume that the covariance matrix of the errors is correctly specified.\n"
     ]
    }
   ],
   "source": [
    "from math import log\n",
    "\n",
    "X_train_sm = data.drop(['area', 'Y'], axis = 1)\n",
    "\n",
    "for i in range(len(X_train_sm['DMC'])):\n",
    "    if X_train_sm['DMC'][i] > 0:\n",
    "        X_train_sm['DMC'][i] = log(X_train_sm['DMC'][i], 2)\n",
    "\n",
    "X_train_copy = sm.add_constant(X_train_sm)\n",
    "model = sm.OLS(y_train, X_train_copy).fit()\n",
    "\n",
    "print(model.summary())"
   ],
   "metadata": {
    "collapsed": false,
    "pycharm": {
     "name": "#%%\n"
    }
   }
  },
  {
   "cell_type": "code",
   "execution_count": 486,
   "outputs": [
    {
     "name": "stdout",
     "output_type": "stream",
     "text": [
      "                            OLS Regression Results                            \n",
      "==============================================================================\n",
      "Dep. Variable:                   area   R-squared:                       0.025\n",
      "Model:                            OLS   Adj. R-squared:                  0.004\n",
      "Method:                 Least Squares   F-statistic:                     1.178\n",
      "Date:                Mon, 27 Jun 2022   Prob (F-statistic):              0.299\n",
      "Time:                        16:22:39   Log-Likelihood:                -727.04\n",
      "No. Observations:                 517   AIC:                             1478.\n",
      "Df Residuals:                     505   BIC:                             1529.\n",
      "Df Model:                          11                                         \n",
      "Covariance Type:            nonrobust                                         \n",
      "==============================================================================\n",
      "                 coef    std err          t      P>|t|      [0.025      0.975]\n",
      "------------------------------------------------------------------------------\n",
      "const         -0.2677      0.143     -1.873      0.062      -0.549       0.013\n",
      "X              0.0324      0.019      1.684      0.093      -0.005       0.070\n",
      "month          0.0153      0.012      1.252      0.211      -0.009       0.039\n",
      "day            0.0084      0.024      0.359      0.720      -0.038       0.055\n",
      "FFMC          -0.0080      0.058     -0.140      0.889      -0.121       0.105\n",
      "DMC            0.1116      0.072      1.550      0.122      -0.030       0.253\n",
      "DC            -0.0594      0.073     -0.818      0.414      -0.202       0.083\n",
      "ISI           -0.0443      0.056     -0.795      0.427      -0.154       0.065\n",
      "temp           0.0930      0.073      1.268      0.206      -0.051       0.237\n",
      "RH            -0.0422      0.063     -0.673      0.501      -0.165       0.081\n",
      "wind           0.0519      0.047      1.094      0.274      -0.041       0.145\n",
      "rain          -0.1133      0.206     -0.549      0.583      -0.518       0.292\n",
      "==============================================================================\n",
      "Omnibus:                      974.100   Durbin-Watson:                   1.655\n",
      "Prob(Omnibus):                  0.000   Jarque-Bera (JB):           776256.410\n",
      "Skew:                          12.545   Prob(JB):                         0.00\n",
      "Kurtosis:                     191.164   Cond. No.                         41.5\n",
      "==============================================================================\n",
      "\n",
      "Notes:\n",
      "[1] Standard Errors assume that the covariance matrix of the errors is correctly specified.\n"
     ]
    }
   ],
   "source": [
    "X_train_sm = data.drop(['area', 'Y'], axis = 1)\n",
    "\n",
    "for i in range(len(X_train_sm['rain'])):\n",
    "    if X_train_sm['rain'][i] > 0:\n",
    "        X_train_sm['rain'][i] = pow(X_train_sm['rain'][i], 0.4)\n",
    "\n",
    "X_train_copy = sm.add_constant(X_train_sm)\n",
    "model = sm.OLS(y_train, X_train_copy).fit()\n",
    "\n",
    "print(model.summary())"
   ],
   "metadata": {
    "collapsed": false,
    "pycharm": {
     "name": "#%%\n"
    }
   }
  },
  {
   "cell_type": "code",
   "execution_count": 487,
   "outputs": [
    {
     "name": "stdout",
     "output_type": "stream",
     "text": [
      "                            OLS Regression Results                            \n",
      "==============================================================================\n",
      "Dep. Variable:                   area   R-squared:                       0.023\n",
      "Model:                            OLS   Adj. R-squared:                  0.002\n",
      "Method:                 Least Squares   F-statistic:                     1.100\n",
      "Date:                Mon, 27 Jun 2022   Prob (F-statistic):              0.359\n",
      "Time:                        16:22:40   Log-Likelihood:                -727.47\n",
      "No. Observations:                 517   AIC:                             1479.\n",
      "Df Residuals:                     505   BIC:                             1530.\n",
      "Df Model:                          11                                         \n",
      "Covariance Type:            nonrobust                                         \n",
      "==============================================================================\n",
      "                 coef    std err          t      P>|t|      [0.025      0.975]\n",
      "------------------------------------------------------------------------------\n",
      "const         -0.2295      0.148     -1.555      0.121      -0.520       0.060\n",
      "X              0.0331      0.019      1.727      0.085      -0.005       0.071\n",
      "month          0.0105      0.011      0.977      0.329      -0.011       0.032\n",
      "day            0.0067      0.024      0.287      0.774      -0.039       0.053\n",
      "FFMC          -0.0107      0.058     -0.186      0.853      -0.124       0.102\n",
      "DMC            0.0762      0.061      1.254      0.211      -0.043       0.196\n",
      "DC            -0.0040      0.045     -0.088      0.930      -0.092       0.084\n",
      "ISI           -0.0449      0.056     -0.801      0.424      -0.155       0.065\n",
      "temp           0.0703      0.075      0.935      0.350      -0.077       0.218\n",
      "RH            -0.0555      0.062     -0.897      0.370      -0.177       0.066\n",
      "wind           0.0517      0.047      1.096      0.274      -0.041       0.144\n",
      "rain          -0.0143      0.045     -0.317      0.752      -0.103       0.074\n",
      "==============================================================================\n",
      "Omnibus:                      974.316   Durbin-Watson:                   1.647\n",
      "Prob(Omnibus):                  0.000   Jarque-Bera (JB):           776072.020\n",
      "Skew:                          12.552   Prob(JB):                         0.00\n",
      "Kurtosis:                     191.139   Cond. No.                         30.0\n",
      "==============================================================================\n",
      "\n",
      "Notes:\n",
      "[1] Standard Errors assume that the covariance matrix of the errors is correctly specified.\n"
     ]
    }
   ],
   "source": [
    "X_train_sm = data.drop(['area', 'Y'], axis = 1)\n",
    "\n",
    "for i in range(len(X_train_sm['DC'])):\n",
    "    X_train_sm['DC'][i] = pow(X_train_sm['DC'][i], 2)\n",
    "\n",
    "X_train_copy = sm.add_constant(X_train_sm)\n",
    "model = sm.OLS(y_train, X_train_copy).fit()\n",
    "\n",
    "print(model.summary())"
   ],
   "metadata": {
    "collapsed": false,
    "pycharm": {
     "name": "#%%\n"
    }
   }
  },
  {
   "cell_type": "code",
   "execution_count": 488,
   "outputs": [
    {
     "name": "stdout",
     "output_type": "stream",
     "text": [
      "                            OLS Regression Results                            \n",
      "==============================================================================\n",
      "Dep. Variable:                   area   R-squared:                       0.024\n",
      "Model:                            OLS   Adj. R-squared:                  0.003\n",
      "Method:                 Least Squares   F-statistic:                     1.126\n",
      "Date:                Mon, 27 Jun 2022   Prob (F-statistic):              0.338\n",
      "Time:                        16:22:40   Log-Likelihood:                -727.33\n",
      "No. Observations:                 517   AIC:                             1479.\n",
      "Df Residuals:                     505   BIC:                             1530.\n",
      "Df Model:                          11                                         \n",
      "Covariance Type:            nonrobust                                         \n",
      "==============================================================================\n",
      "                 coef    std err          t      P>|t|      [0.025      0.975]\n",
      "------------------------------------------------------------------------------\n",
      "const         -0.2839      0.167     -1.698      0.090      -0.612       0.045\n",
      "X              0.0327      0.019      1.703      0.089      -0.005       0.070\n",
      "month          0.0135      0.012      1.122      0.262      -0.010       0.037\n",
      "day            0.0074      0.023      0.317      0.751      -0.039       0.054\n",
      "FFMC          -0.0101      0.057     -0.176      0.860      -0.123       0.103\n",
      "DMC            0.0969      0.069      1.414      0.158      -0.038       0.232\n",
      "DC            -0.0542      0.102     -0.531      0.596      -0.255       0.146\n",
      "ISI           -0.0444      0.056     -0.796      0.426      -0.154       0.065\n",
      "temp           0.0840      0.073      1.148      0.251      -0.060       0.228\n",
      "RH            -0.0497      0.062     -0.808      0.419      -0.171       0.071\n",
      "wind           0.0506      0.047      1.071      0.284      -0.042       0.143\n",
      "rain          -0.0149      0.045     -0.331      0.741      -0.103       0.074\n",
      "==============================================================================\n",
      "Omnibus:                      973.952   Durbin-Watson:                   1.654\n",
      "Prob(Omnibus):                  0.000   Jarque-Bera (JB):           774704.307\n",
      "Skew:                          12.542   Prob(JB):                         0.00\n",
      "Kurtosis:                     190.973   Cond. No.                         36.4\n",
      "==============================================================================\n",
      "\n",
      "Notes:\n",
      "[1] Standard Errors assume that the covariance matrix of the errors is correctly specified.\n"
     ]
    }
   ],
   "source": [
    "X_train_sm = data.drop(['area', 'Y'], axis = 1)\n",
    "\n",
    "for i in range(len(X_train_sm['DC'])):\n",
    "    if X_train_sm['DC'][i] > 0:\n",
    "        X_train_sm['DC'][i] = log(X_train_sm['DC'][i], 10)\n",
    "\n",
    "X_train_copy = sm.add_constant(X_train_sm)\n",
    "model = sm.OLS(y_train, X_train_copy).fit()\n",
    "\n",
    "print(model.summary())"
   ],
   "metadata": {
    "collapsed": false,
    "pycharm": {
     "name": "#%%\n"
    }
   }
  },
  {
   "cell_type": "code",
   "execution_count": 489,
   "outputs": [
    {
     "name": "stdout",
     "output_type": "stream",
     "text": [
      "                            OLS Regression Results                            \n",
      "==============================================================================\n",
      "Dep. Variable:                   area   R-squared:                       0.025\n",
      "Model:                            OLS   Adj. R-squared:                  0.004\n",
      "Method:                 Least Squares   F-statistic:                     1.188\n",
      "Date:                Mon, 27 Jun 2022   Prob (F-statistic):              0.292\n",
      "Time:                        16:22:40   Log-Likelihood:                -726.99\n",
      "No. Observations:                 517   AIC:                             1478.\n",
      "Df Residuals:                     505   BIC:                             1529.\n",
      "Df Model:                          11                                         \n",
      "Covariance Type:            nonrobust                                         \n",
      "==============================================================================\n",
      "                 coef    std err          t      P>|t|      [0.025      0.975]\n",
      "------------------------------------------------------------------------------\n",
      "const         -0.2708      0.143     -1.890      0.059      -0.552       0.011\n",
      "X              0.0318      0.019      1.656      0.098      -0.006       0.070\n",
      "month          0.0166      0.012      1.345      0.179      -0.008       0.041\n",
      "day            0.0082      0.023      0.348      0.728      -0.038       0.054\n",
      "FFMC          -0.0097      0.057     -0.168      0.867      -0.123       0.103\n",
      "DMC            0.1211      0.073      1.652      0.099      -0.023       0.265\n",
      "DC            -0.0738      0.076     -0.973      0.331      -0.223       0.075\n",
      "ISI           -0.0443      0.056     -0.796      0.426      -0.154       0.065\n",
      "temp           0.0924      0.073      1.269      0.205      -0.051       0.235\n",
      "RH            -0.0461      0.061     -0.750      0.454      -0.167       0.075\n",
      "wind           0.0498      0.047      1.055      0.292      -0.043       0.142\n",
      "rain          -0.0154      0.045     -0.342      0.732      -0.104       0.073\n",
      "==============================================================================\n",
      "Omnibus:                      973.782   Durbin-Watson:                   1.656\n",
      "Prob(Omnibus):                  0.000   Jarque-Bera (JB):           774799.008\n",
      "Skew:                          12.537   Prob(JB):                         0.00\n",
      "Kurtosis:                     190.986   Cond. No.                         29.4\n",
      "==============================================================================\n",
      "\n",
      "Notes:\n",
      "[1] Standard Errors assume that the covariance matrix of the errors is correctly specified.\n"
     ]
    }
   ],
   "source": [
    "X_train_sm = data.drop(['area', 'Y'], axis = 1)\n",
    "\n",
    "for i in range(len(X_train_sm['DC'])):\n",
    "    if X_train_sm['DC'][i] > 0:\n",
    "        X_train_sm['DC'][i] = pow(X_train_sm['DC'][i], 1.4)\n",
    "\n",
    "X_train_copy = sm.add_constant(X_train_sm)\n",
    "model = sm.OLS(y_train, X_train_copy).fit()\n",
    "\n",
    "print(model.summary())"
   ],
   "metadata": {
    "collapsed": false,
    "pycharm": {
     "name": "#%%\n"
    }
   }
  },
  {
   "cell_type": "code",
   "execution_count": 490,
   "outputs": [
    {
     "name": "stdout",
     "output_type": "stream",
     "text": [
      "                            OLS Regression Results                            \n",
      "==============================================================================\n",
      "Dep. Variable:                   area   R-squared:                       0.026\n",
      "Model:                            OLS   Adj. R-squared:                  0.004\n",
      "Method:                 Least Squares   F-statistic:                     1.210\n",
      "Date:                Mon, 27 Jun 2022   Prob (F-statistic):              0.277\n",
      "Time:                        16:22:40   Log-Likelihood:                -726.87\n",
      "No. Observations:                 517   AIC:                             1478.\n",
      "Df Residuals:                     505   BIC:                             1529.\n",
      "Df Model:                          11                                         \n",
      "Covariance Type:            nonrobust                                         \n",
      "==============================================================================\n",
      "                 coef    std err          t      P>|t|      [0.025      0.975]\n",
      "------------------------------------------------------------------------------\n",
      "const         -0.2554      0.135     -1.893      0.059      -0.520       0.010\n",
      "X              0.0321      0.019      1.674      0.095      -0.006       0.070\n",
      "month          0.0016      0.001      1.454      0.147      -0.001       0.004\n",
      "day            0.0087      0.023      0.371      0.711      -0.037       0.055\n",
      "FFMC          -0.0107      0.057     -0.186      0.852      -0.124       0.102\n",
      "DMC            0.1198      0.073      1.648      0.100      -0.023       0.263\n",
      "DC            -0.0811      0.078     -1.036      0.301      -0.235       0.073\n",
      "ISI           -0.0427      0.056     -0.767      0.443      -0.152       0.067\n",
      "temp           0.0952      0.073      1.297      0.195      -0.049       0.239\n",
      "RH            -0.0445      0.062     -0.722      0.471      -0.166       0.077\n",
      "wind           0.0509      0.047      1.078      0.282      -0.042       0.144\n",
      "rain          -0.0152      0.045     -0.338      0.735      -0.104       0.073\n",
      "==============================================================================\n",
      "Omnibus:                      973.497   Durbin-Watson:                   1.658\n",
      "Prob(Omnibus):                  0.000   Jarque-Bera (JB):           772954.496\n",
      "Skew:                          12.530   Prob(JB):                         0.00\n",
      "Kurtosis:                     190.760   Cond. No.                         237.\n",
      "==============================================================================\n",
      "\n",
      "Notes:\n",
      "[1] Standard Errors assume that the covariance matrix of the errors is correctly specified.\n"
     ]
    }
   ],
   "source": [
    "X_train_sm = data.drop(['area', 'Y'], axis = 1)\n",
    "\n",
    "for i in range(len(X_train_sm['month'])):\n",
    "    X_train_sm['month'][i] = X_train_sm['month'][i] * X_train_sm['month'][i]\n",
    "\n",
    "X_train_copy = sm.add_constant(X_train_sm)\n",
    "model = sm.OLS(y_train, X_train_copy).fit()\n",
    "\n",
    "print(model.summary())"
   ],
   "metadata": {
    "collapsed": false,
    "pycharm": {
     "name": "#%%\n"
    }
   }
  },
  {
   "cell_type": "code",
   "execution_count": 491,
   "outputs": [
    {
     "name": "stdout",
     "output_type": "stream",
     "text": [
      "                            OLS Regression Results                            \n",
      "==============================================================================\n",
      "Dep. Variable:                   area   R-squared:                       0.024\n",
      "Model:                            OLS   Adj. R-squared:                  0.002\n",
      "Method:                 Least Squares   F-statistic:                     1.107\n",
      "Date:                Mon, 27 Jun 2022   Prob (F-statistic):              0.353\n",
      "Time:                        16:22:41   Log-Likelihood:                -727.43\n",
      "No. Observations:                 517   AIC:                             1479.\n",
      "Df Residuals:                     505   BIC:                             1530.\n",
      "Df Model:                          11                                         \n",
      "Covariance Type:            nonrobust                                         \n",
      "==============================================================================\n",
      "                 coef    std err          t      P>|t|      [0.025      0.975]\n",
      "------------------------------------------------------------------------------\n",
      "const         -0.2679      0.143     -1.867      0.062      -0.550       0.014\n",
      "X              0.0305      0.019      1.589      0.113      -0.007       0.068\n",
      "month          0.0166      0.012      1.375      0.170      -0.007       0.040\n",
      "day            0.0093      0.023      0.395      0.693      -0.037       0.055\n",
      "FFMC           0.0042      0.059      0.072      0.943      -0.111       0.120\n",
      "DMC            0.0948      0.071      1.340      0.181      -0.044       0.234\n",
      "DC            -0.0662      0.072     -0.919      0.359      -0.208       0.075\n",
      "ISI           -0.0517      0.056     -0.921      0.358      -0.162       0.059\n",
      "temp           0.1269      0.059      2.134      0.033       0.010       0.244\n",
      "RH             0.0046      0.032      0.142      0.887      -0.059       0.068\n",
      "wind           0.0533      0.047      1.135      0.257      -0.039       0.146\n",
      "rain          -0.0212      0.045     -0.476      0.634      -0.109       0.066\n",
      "==============================================================================\n",
      "Omnibus:                      974.526   Durbin-Watson:                   1.659\n",
      "Prob(Omnibus):                  0.000   Jarque-Bera (JB):           777124.340\n",
      "Skew:                          12.557   Prob(JB):                         0.00\n",
      "Kurtosis:                     191.268   Cond. No.                         29.2\n",
      "==============================================================================\n",
      "\n",
      "Notes:\n",
      "[1] Standard Errors assume that the covariance matrix of the errors is correctly specified.\n"
     ]
    }
   ],
   "source": [
    "X_train_sm = data.drop(['area', 'Y'], axis = 1)\n",
    "\n",
    "for i in range(len(X_train_sm['RH'])):\n",
    "    X_train_sm['RH'][i] = X_train_sm['RH'][i] * X_train_sm['RH'][i]\n",
    "\n",
    "X_train_copy = sm.add_constant(X_train_sm)\n",
    "model = sm.OLS(y_train, X_train_copy).fit()\n",
    "\n",
    "print(model.summary())"
   ],
   "metadata": {
    "collapsed": false,
    "pycharm": {
     "name": "#%%\n"
    }
   }
  },
  {
   "cell_type": "code",
   "execution_count": 492,
   "outputs": [
    {
     "name": "stdout",
     "output_type": "stream",
     "text": [
      "                            OLS Regression Results                            \n",
      "==============================================================================\n",
      "Dep. Variable:                   area   R-squared:                       0.025\n",
      "Model:                            OLS   Adj. R-squared:                  0.004\n",
      "Method:                 Least Squares   F-statistic:                     1.173\n",
      "Date:                Mon, 27 Jun 2022   Prob (F-statistic):              0.303\n",
      "Time:                        16:22:41   Log-Likelihood:                -727.07\n",
      "No. Observations:                 517   AIC:                             1478.\n",
      "Df Residuals:                     505   BIC:                             1529.\n",
      "Df Model:                          11                                         \n",
      "Covariance Type:            nonrobust                                         \n",
      "==============================================================================\n",
      "                 coef    std err          t      P>|t|      [0.025      0.975]\n",
      "------------------------------------------------------------------------------\n",
      "const         -0.2991      0.147     -2.032      0.043      -0.588      -0.010\n",
      "X              0.0319      0.019      1.663      0.097      -0.006       0.070\n",
      "month          0.0150      0.012      1.225      0.221      -0.009       0.039\n",
      "day            0.0072      0.024      0.305      0.760      -0.039       0.053\n",
      "FFMC          -0.0072      0.056     -0.127      0.899      -0.118       0.104\n",
      "DMC            0.1103      0.071      1.553      0.121      -0.029       0.250\n",
      "DC            -0.0596      0.072     -0.824      0.410      -0.202       0.082\n",
      "ISI           -0.0451      0.055     -0.813      0.416      -0.154       0.064\n",
      "temp           0.0977      0.065      1.495      0.136      -0.031       0.226\n",
      "RH            -0.0908      0.106     -0.855      0.393      -0.299       0.118\n",
      "wind           0.0501      0.047      1.064      0.288      -0.042       0.143\n",
      "rain          -0.0164      0.045     -0.366      0.715      -0.104       0.072\n",
      "==============================================================================\n",
      "Omnibus:                      973.326   Durbin-Watson:                   1.654\n",
      "Prob(Omnibus):                  0.000   Jarque-Bera (JB):           772397.561\n",
      "Skew:                          12.525   Prob(JB):                         0.00\n",
      "Kurtosis:                     190.692   Cond. No.                         31.1\n",
      "==============================================================================\n",
      "\n",
      "Notes:\n",
      "[1] Standard Errors assume that the covariance matrix of the errors is correctly specified.\n"
     ]
    }
   ],
   "source": [
    "X_train_sm = data.drop(['area', 'Y'], axis = 1)\n",
    "\n",
    "for i in range(len(X_train_sm['RH'])):\n",
    "    if X_train_sm['RH'][i] > 0:\n",
    "        X_train_sm['RH'][i] = log(X_train_sm['RH'][i], 10)\n",
    "\n",
    "X_train_copy = sm.add_constant(X_train_sm)\n",
    "model = sm.OLS(y_train, X_train_copy).fit()\n",
    "\n",
    "print(model.summary())"
   ],
   "metadata": {
    "collapsed": false,
    "pycharm": {
     "name": "#%%\n"
    }
   }
  },
  {
   "cell_type": "code",
   "execution_count": 493,
   "outputs": [
    {
     "name": "stdout",
     "output_type": "stream",
     "text": [
      "                            OLS Regression Results                            \n",
      "==============================================================================\n",
      "Dep. Variable:                   area   R-squared:                       0.025\n",
      "Model:                            OLS   Adj. R-squared:                  0.003\n",
      "Method:                 Least Squares   F-statistic:                     1.162\n",
      "Date:                Mon, 27 Jun 2022   Prob (F-statistic):              0.311\n",
      "Time:                        16:22:41   Log-Likelihood:                -727.13\n",
      "No. Observations:                 517   AIC:                             1478.\n",
      "Df Residuals:                     505   BIC:                             1529.\n",
      "Df Model:                          11                                         \n",
      "Covariance Type:            nonrobust                                         \n",
      "==============================================================================\n",
      "                 coef    std err          t      P>|t|      [0.025      0.975]\n",
      "------------------------------------------------------------------------------\n",
      "const         -0.2575      0.142     -1.814      0.070      -0.536       0.021\n",
      "X              0.0316      0.019      1.648      0.100      -0.006       0.069\n",
      "month          0.0151      0.012      1.230      0.219      -0.009       0.039\n",
      "day            0.0080      0.023      0.342      0.733      -0.038       0.054\n",
      "FFMC          -0.0043      0.056     -0.076      0.939      -0.114       0.106\n",
      "DMC            0.1082      0.071      1.528      0.127      -0.031       0.247\n",
      "DC            -0.0561      0.073     -0.767      0.443      -0.200       0.088\n",
      "ISI           -0.0465      0.055     -0.841      0.401      -0.155       0.062\n",
      "temp           0.0902      0.072      1.246      0.213      -0.052       0.232\n",
      "RH            -0.0535      0.069     -0.778      0.437      -0.189       0.082\n",
      "wind           0.0488      0.047      1.032      0.303      -0.044       0.142\n",
      "rain          -0.0155      0.045     -0.344      0.731      -0.104       0.073\n",
      "==============================================================================\n",
      "Omnibus:                      973.602   Durbin-Watson:                   1.656\n",
      "Prob(Omnibus):                  0.000   Jarque-Bera (JB):           773444.547\n",
      "Skew:                          12.533   Prob(JB):                         0.00\n",
      "Kurtosis:                     190.820   Cond. No.                         28.9\n",
      "==============================================================================\n",
      "\n",
      "Notes:\n",
      "[1] Standard Errors assume that the covariance matrix of the errors is correctly specified.\n"
     ]
    }
   ],
   "source": [
    "X_train_sm = data.drop(['area', 'Y'], axis = 1)\n",
    "\n",
    "for i in range(len(X_train_sm['RH'])):\n",
    "    if X_train_sm['RH'][i] > 0:\n",
    "        X_train_sm['RH'][i] = pow(X_train_sm['RH'][i], 0.3)\n",
    "\n",
    "X_train_copy = sm.add_constant(X_train_sm)\n",
    "model = sm.OLS(y_train, X_train_copy).fit()\n",
    "\n",
    "print(model.summary())"
   ],
   "metadata": {
    "collapsed": false,
    "pycharm": {
     "name": "#%%\n"
    }
   }
  },
  {
   "cell_type": "code",
   "execution_count": 494,
   "outputs": [
    {
     "name": "stdout",
     "output_type": "stream",
     "text": [
      "                            OLS Regression Results                            \n",
      "==============================================================================\n",
      "Dep. Variable:                   area   R-squared:                       0.025\n",
      "Model:                            OLS   Adj. R-squared:                  0.003\n",
      "Method:                 Least Squares   F-statistic:                     1.160\n",
      "Date:                Mon, 27 Jun 2022   Prob (F-statistic):              0.312\n",
      "Time:                        16:22:41   Log-Likelihood:                -727.14\n",
      "No. Observations:                 517   AIC:                             1478.\n",
      "Df Residuals:                     505   BIC:                             1529.\n",
      "Df Model:                          11                                         \n",
      "Covariance Type:            nonrobust                                         \n",
      "==============================================================================\n",
      "                 coef    std err          t      P>|t|      [0.025      0.975]\n",
      "------------------------------------------------------------------------------\n",
      "const         -0.2581      0.142     -1.822      0.069      -0.536       0.020\n",
      "X              0.0319      0.019      1.661      0.097      -0.006       0.070\n",
      "month          0.0153      0.012      1.257      0.209      -0.009       0.039\n",
      "day            0.0080      0.023      0.342      0.733      -0.038       0.054\n",
      "FFMC          -0.0088      0.056     -0.158      0.875      -0.118       0.101\n",
      "DMC            0.1118      0.072      1.551      0.121      -0.030       0.254\n",
      "DC            -0.0585      0.073     -0.806      0.421      -0.201       0.084\n",
      "ISI           -0.0442      0.056     -0.789      0.431      -0.154       0.066\n",
      "temp           0.0898      0.073      1.229      0.220      -0.054       0.233\n",
      "RH            -0.0472      0.062     -0.765      0.444      -0.168       0.074\n",
      "wind           0.0498      0.047      1.054      0.292      -0.043       0.143\n",
      "rain          -0.0153      0.045     -0.339      0.735      -0.104       0.073\n",
      "==============================================================================\n",
      "Omnibus:                      974.018   Durbin-Watson:                   1.655\n",
      "Prob(Omnibus):                  0.000   Jarque-Bera (JB):           775641.646\n",
      "Skew:                          12.543   Prob(JB):                         0.00\n",
      "Kurtosis:                     191.088   Cond. No.                         28.8\n",
      "==============================================================================\n",
      "\n",
      "Notes:\n",
      "[1] Standard Errors assume that the covariance matrix of the errors is correctly specified.\n"
     ]
    }
   ],
   "source": [
    "X_train_sm = data.drop(['area', 'Y'], axis = 1)\n",
    "\n",
    "for i in range(len(X_train_sm['FFMC'])):\n",
    "    if X_train_sm['FFMC'][i] > 0:\n",
    "        X_train_sm['FFMC'][i] = pow(X_train_sm['FFMC'][i], 0.5)\n",
    "\n",
    "X_train_copy = sm.add_constant(X_train_sm)\n",
    "model = sm.OLS(y_train, X_train_copy).fit()\n",
    "\n",
    "print(model.summary())"
   ],
   "metadata": {
    "collapsed": false,
    "pycharm": {
     "name": "#%%\n"
    }
   }
  },
  {
   "cell_type": "code",
   "execution_count": 495,
   "outputs": [
    {
     "name": "stdout",
     "output_type": "stream",
     "text": [
      "                            OLS Regression Results                            \n",
      "==============================================================================\n",
      "Dep. Variable:                   area   R-squared:                       0.025\n",
      "Model:                            OLS   Adj. R-squared:                  0.003\n",
      "Method:                 Least Squares   F-statistic:                     1.159\n",
      "Date:                Mon, 27 Jun 2022   Prob (F-statistic):              0.313\n",
      "Time:                        16:22:41   Log-Likelihood:                -727.15\n",
      "No. Observations:                 517   AIC:                             1478.\n",
      "Df Residuals:                     505   BIC:                             1529.\n",
      "Df Model:                          11                                         \n",
      "Covariance Type:            nonrobust                                         \n",
      "==============================================================================\n",
      "                 coef    std err          t      P>|t|      [0.025      0.975]\n",
      "------------------------------------------------------------------------------\n",
      "const         -0.2627      0.148     -1.774      0.077      -0.554       0.028\n",
      "X              0.0320      0.019      1.662      0.097      -0.006       0.070\n",
      "month          0.0152      0.012      1.250      0.212      -0.009       0.039\n",
      "day            0.0081      0.023      0.344      0.731      -0.038       0.054\n",
      "FFMC          -0.0058      0.057     -0.103      0.918      -0.117       0.105\n",
      "DMC            0.1102      0.071      1.556      0.120      -0.029       0.249\n",
      "DC            -0.0589      0.073     -0.812      0.417      -0.202       0.084\n",
      "ISI           -0.0465      0.053     -0.883      0.377      -0.150       0.057\n",
      "temp           0.0897      0.073      1.226      0.221      -0.054       0.233\n",
      "RH            -0.0460      0.061     -0.755      0.451      -0.166       0.074\n",
      "wind           0.0499      0.047      1.058      0.291      -0.043       0.143\n",
      "rain          -0.0154      0.045     -0.343      0.732      -0.104       0.073\n",
      "==============================================================================\n",
      "Omnibus:                      974.045   Durbin-Watson:                   1.655\n",
      "Prob(Omnibus):                  0.000   Jarque-Bera (JB):           775684.964\n",
      "Skew:                          12.544   Prob(JB):                         0.00\n",
      "Kurtosis:                     191.094   Cond. No.                         30.3\n",
      "==============================================================================\n",
      "\n",
      "Notes:\n",
      "[1] Standard Errors assume that the covariance matrix of the errors is correctly specified.\n"
     ]
    }
   ],
   "source": [
    "X_train_sm = data.drop(['area', 'Y'], axis = 1)\n",
    "\n",
    "for i in range(len(X_train_sm['FFMC'])):\n",
    "    if X_train_sm['FFMC'][i] > 0:\n",
    "        X_train_sm['FFMC'][i] = log(X_train_sm['FFMC'][i], 10)\n",
    "\n",
    "X_train_copy = sm.add_constant(X_train_sm)\n",
    "model = sm.OLS(y_train, X_train_copy).fit()\n",
    "\n",
    "print(model.summary())"
   ],
   "metadata": {
    "collapsed": false,
    "pycharm": {
     "name": "#%%\n"
    }
   }
  },
  {
   "cell_type": "code",
   "execution_count": 496,
   "outputs": [
    {
     "name": "stdout",
     "output_type": "stream",
     "text": [
      "                            OLS Regression Results                            \n",
      "==============================================================================\n",
      "Dep. Variable:                   area   R-squared:                       0.025\n",
      "Model:                            OLS   Adj. R-squared:                  0.003\n",
      "Method:                 Least Squares   F-statistic:                     1.165\n",
      "Date:                Mon, 27 Jun 2022   Prob (F-statistic):              0.309\n",
      "Time:                        16:22:42   Log-Likelihood:                -727.11\n",
      "No. Observations:                 517   AIC:                             1478.\n",
      "Df Residuals:                     505   BIC:                             1529.\n",
      "Df Model:                          11                                         \n",
      "Covariance Type:            nonrobust                                         \n",
      "==============================================================================\n",
      "                 coef    std err          t      P>|t|      [0.025      0.975]\n",
      "------------------------------------------------------------------------------\n",
      "const         -0.2600      0.142     -1.834      0.067      -0.539       0.019\n",
      "X              0.0321      0.019      1.669      0.096      -0.006       0.070\n",
      "month          0.0152      0.012      1.253      0.211      -0.009       0.039\n",
      "day            0.0079      0.024      0.338      0.736      -0.038       0.054\n",
      "FFMC          -0.0001      0.000     -0.275      0.784      -0.001       0.001\n",
      "DMC            0.1109      0.070      1.573      0.116      -0.028       0.249\n",
      "DC            -0.0588      0.073     -0.810      0.418      -0.201       0.084\n",
      "ISI           -0.0471      0.050     -0.940      0.348      -0.146       0.051\n",
      "temp           0.0891      0.073      1.218      0.224      -0.055       0.233\n",
      "RH            -0.0475      0.060     -0.786      0.432      -0.166       0.071\n",
      "wind           0.0509      0.047      1.075      0.283      -0.042       0.144\n",
      "rain          -0.0154      0.045     -0.343      0.732      -0.104       0.073\n",
      "==============================================================================\n",
      "Omnibus:                      973.906   Durbin-Watson:                   1.654\n",
      "Prob(Omnibus):                  0.000   Jarque-Bera (JB):           775129.728\n",
      "Skew:                          12.540   Prob(JB):                         0.00\n",
      "Kurtosis:                     191.026   Cond. No.                         333.\n",
      "==============================================================================\n",
      "\n",
      "Notes:\n",
      "[1] Standard Errors assume that the covariance matrix of the errors is correctly specified.\n"
     ]
    }
   ],
   "source": [
    "X_train_sm = data.drop(['area', 'Y'], axis = 1)\n",
    "\n",
    "for i in range(len(X_train_sm['FFMC'])):\n",
    "    X_train_sm['FFMC'][i] = X_train_sm['FFMC'][i] * X_train_sm['FFMC'][i] * X_train_sm['FFMC'][i]\n",
    "\n",
    "X_train_copy = sm.add_constant(X_train_sm)\n",
    "model = sm.OLS(y_train, X_train_copy).fit()\n",
    "\n",
    "print(model.summary())"
   ],
   "metadata": {
    "collapsed": false,
    "pycharm": {
     "name": "#%%\n"
    }
   }
  },
  {
   "cell_type": "code",
   "execution_count": 497,
   "outputs": [
    {
     "name": "stdout",
     "output_type": "stream",
     "text": [
      "                            OLS Regression Results                            \n",
      "==============================================================================\n",
      "Dep. Variable:                   area   R-squared:                       0.023\n",
      "Model:                            OLS   Adj. R-squared:                  0.001\n",
      "Method:                 Least Squares   F-statistic:                     1.062\n",
      "Date:                Mon, 27 Jun 2022   Prob (F-statistic):              0.390\n",
      "Time:                        16:22:42   Log-Likelihood:                -727.68\n",
      "No. Observations:                 517   AIC:                             1479.\n",
      "Df Residuals:                     505   BIC:                             1530.\n",
      "Df Model:                          11                                         \n",
      "Covariance Type:            nonrobust                                         \n",
      "==============================================================================\n",
      "                 coef    std err          t      P>|t|      [0.025      0.975]\n",
      "------------------------------------------------------------------------------\n",
      "const         -0.2374      0.149     -1.594      0.111      -0.530       0.055\n",
      "X              0.0317      0.019      1.645      0.101      -0.006       0.070\n",
      "month          0.0137      0.012      1.122      0.262      -0.010       0.038\n",
      "day            0.0068      0.024      0.289      0.773      -0.039       0.053\n",
      "FFMC          -0.0118      0.058     -0.206      0.837      -0.125       0.101\n",
      "DMC            0.1146      0.072      1.590      0.112      -0.027       0.256\n",
      "DC            -0.0621      0.073     -0.856      0.393      -0.205       0.081\n",
      "ISI           -0.0315      0.055     -0.574      0.566      -0.139       0.076\n",
      "temp           0.0668      0.073      0.910      0.363      -0.078       0.211\n",
      "RH            -0.0559      0.062     -0.904      0.366      -0.177       0.066\n",
      "wind          -0.0079      0.033     -0.244      0.808      -0.072       0.056\n",
      "rain          -0.0108      0.045     -0.240      0.810      -0.099       0.078\n",
      "==============================================================================\n",
      "Omnibus:                      974.430   Durbin-Watson:                   1.662\n",
      "Prob(Omnibus):                  0.000   Jarque-Bera (JB):           777071.287\n",
      "Skew:                          12.554   Prob(JB):                         0.00\n",
      "Kurtosis:                     191.262   Cond. No.                         30.4\n",
      "==============================================================================\n",
      "\n",
      "Notes:\n",
      "[1] Standard Errors assume that the covariance matrix of the errors is correctly specified.\n"
     ]
    }
   ],
   "source": [
    "X_train_sm = data.drop(['area', 'Y'], axis = 1)\n",
    "\n",
    "for i in range(len(X_train_sm['wind'])):\n",
    "    X_train_sm['wind'][i] = X_train_sm['wind'][i] * X_train_sm['wind'][i]\n",
    "\n",
    "X_train_copy = sm.add_constant(X_train_sm)\n",
    "model = sm.OLS(y_train, X_train_copy).fit()\n",
    "\n",
    "print(model.summary())"
   ],
   "metadata": {
    "collapsed": false,
    "pycharm": {
     "name": "#%%\n"
    }
   }
  },
  {
   "cell_type": "code",
   "execution_count": 498,
   "outputs": [
    {
     "name": "stdout",
     "output_type": "stream",
     "text": [
      "                            OLS Regression Results                            \n",
      "==============================================================================\n",
      "Dep. Variable:                   area   R-squared:                       0.025\n",
      "Model:                            OLS   Adj. R-squared:                  0.004\n",
      "Method:                 Least Squares   F-statistic:                     1.193\n",
      "Date:                Mon, 27 Jun 2022   Prob (F-statistic):              0.289\n",
      "Time:                        16:22:42   Log-Likelihood:                -726.96\n",
      "No. Observations:                 517   AIC:                             1478.\n",
      "Df Residuals:                     505   BIC:                             1529.\n",
      "Df Model:                          11                                         \n",
      "Covariance Type:            nonrobust                                         \n",
      "==============================================================================\n",
      "                 coef    std err          t      P>|t|      [0.025      0.975]\n",
      "------------------------------------------------------------------------------\n",
      "const         -0.2533      0.141     -1.791      0.074      -0.531       0.025\n",
      "X              0.0314      0.019      1.633      0.103      -0.006       0.069\n",
      "month          0.0150      0.012      1.239      0.216      -0.009       0.039\n",
      "day            0.0074      0.023      0.315      0.753      -0.039       0.054\n",
      "FFMC          -0.0103      0.057     -0.180      0.857      -0.123       0.103\n",
      "DMC            0.1133      0.072      1.575      0.116      -0.028       0.255\n",
      "DC            -0.0569      0.073     -0.783      0.434      -0.200       0.086\n",
      "ISI           -0.0468      0.056     -0.837      0.403      -0.157       0.063\n",
      "temp           0.0857      0.072      1.191      0.234      -0.056       0.227\n",
      "RH            -0.0496      0.061     -0.809      0.419      -0.170       0.071\n",
      "wind           0.0624      0.052      1.209      0.227      -0.039       0.164\n",
      "rain          -0.0157      0.045     -0.349      0.727      -0.104       0.073\n",
      "==============================================================================\n",
      "Omnibus:                      973.886   Durbin-Watson:                   1.653\n",
      "Prob(Omnibus):                  0.000   Jarque-Bera (JB):           776062.654\n",
      "Skew:                          12.539   Prob(JB):                         0.00\n",
      "Kurtosis:                     191.141   Cond. No.                         28.8\n",
      "==============================================================================\n",
      "\n",
      "Notes:\n",
      "[1] Standard Errors assume that the covariance matrix of the errors is correctly specified.\n"
     ]
    }
   ],
   "source": [
    "X_train_sm = data.drop(['area', 'Y'], axis = 1)\n",
    "\n",
    "for i in range(len(X_train_sm['wind'])):\n",
    "    if X_train_sm['wind'][i] > 0:\n",
    "        X_train_sm['wind'][i] = pow(X_train_sm['wind'][i], 0.2)\n",
    "\n",
    "X_train_copy = sm.add_constant(X_train_sm)\n",
    "model = sm.OLS(y_train, X_train_copy).fit()\n",
    "\n",
    "print(model.summary())"
   ],
   "metadata": {
    "collapsed": false,
    "pycharm": {
     "name": "#%%\n"
    }
   }
  },
  {
   "cell_type": "code",
   "execution_count": 499,
   "outputs": [
    {
     "name": "stdout",
     "output_type": "stream",
     "text": [
      "                            OLS Regression Results                            \n",
      "==============================================================================\n",
      "Dep. Variable:                   area   R-squared:                       0.026\n",
      "Model:                            OLS   Adj. R-squared:                  0.005\n",
      "Method:                 Least Squares   F-statistic:                     1.234\n",
      "Date:                Mon, 27 Jun 2022   Prob (F-statistic):              0.261\n",
      "Time:                        16:22:42   Log-Likelihood:                -726.74\n",
      "No. Observations:                 517   AIC:                             1477.\n",
      "Df Residuals:                     505   BIC:                             1528.\n",
      "Df Model:                          11                                         \n",
      "Covariance Type:            nonrobust                                         \n",
      "==============================================================================\n",
      "                 coef    std err          t      P>|t|      [0.025      0.975]\n",
      "------------------------------------------------------------------------------\n",
      "const         -0.2053      0.145     -1.418      0.157      -0.490       0.079\n",
      "X              0.0319      0.019      1.659      0.098      -0.006       0.070\n",
      "month          0.0153      0.012      1.259      0.209      -0.009       0.039\n",
      "day            0.0086      0.023      0.367      0.714      -0.038       0.055\n",
      "FFMC          -0.0112      0.057     -0.195      0.845      -0.124       0.102\n",
      "DMC            0.1097      0.072      1.524      0.128      -0.032       0.251\n",
      "DC            -0.0576      0.073     -0.794      0.428      -0.200       0.085\n",
      "ISI           -0.0434      0.055     -0.786      0.432      -0.152       0.065\n",
      "temp           0.0876      0.072      1.219      0.223      -0.054       0.229\n",
      "RH            -0.0480      0.061     -0.784      0.434      -0.168       0.072\n",
      "wind           0.1249      0.091      1.379      0.169      -0.053       0.303\n",
      "rain          -0.0147      0.045     -0.327      0.744      -0.103       0.074\n",
      "==============================================================================\n",
      "Omnibus:                      972.017   Durbin-Watson:                   1.654\n",
      "Prob(Omnibus):                  0.000   Jarque-Bera (JB):           764985.039\n",
      "Skew:                          12.492   Prob(JB):                         0.00\n",
      "Kurtosis:                     189.782   Cond. No.                         29.9\n",
      "==============================================================================\n",
      "\n",
      "Notes:\n",
      "[1] Standard Errors assume that the covariance matrix of the errors is correctly specified.\n"
     ]
    }
   ],
   "source": [
    "X_train_sm = data.drop(['area', 'Y'], axis = 1)\n",
    "\n",
    "for i in range(len(X_train_sm['wind'])):\n",
    "    if X_train_sm['wind'][i] > 0:\n",
    "        X_train_sm['wind'][i] = log(X_train_sm['wind'][i], 20)\n",
    "\n",
    "X_train_copy = sm.add_constant(X_train_sm)\n",
    "model = sm.OLS(y_train, X_train_copy).fit()\n",
    "\n",
    "print(model.summary())"
   ],
   "metadata": {
    "collapsed": false,
    "pycharm": {
     "name": "#%%\n"
    }
   }
  },
  {
   "cell_type": "code",
   "execution_count": 500,
   "outputs": [
    {
     "name": "stdout",
     "output_type": "stream",
     "text": [
      "                            OLS Regression Results                            \n",
      "==============================================================================\n",
      "Dep. Variable:                   area   R-squared:                       0.028\n",
      "Model:                            OLS   Adj. R-squared:                  0.007\n",
      "Method:                 Least Squares   F-statistic:                     1.337\n",
      "Date:                Mon, 27 Jun 2022   Prob (F-statistic):              0.200\n",
      "Time:                        16:22:43   Log-Likelihood:                -726.17\n",
      "No. Observations:                 517   AIC:                             1476.\n",
      "Df Residuals:                     505   BIC:                             1527.\n",
      "Df Model:                          11                                         \n",
      "Covariance Type:            nonrobust                                         \n",
      "==============================================================================\n",
      "                 coef    std err          t      P>|t|      [0.025      0.975]\n",
      "------------------------------------------------------------------------------\n",
      "const         -0.2208      0.141     -1.569      0.117      -0.497       0.056\n",
      "X              0.0324      0.019      1.689      0.092      -0.005       0.070\n",
      "month          0.0017      0.001      1.559      0.120      -0.000       0.004\n",
      "day            0.0098      0.023      0.419      0.676      -0.036       0.056\n",
      "FFMC          -0.0107      0.057     -0.187      0.852      -0.124       0.102\n",
      "DMC            0.1279      0.074      1.727      0.085      -0.018       0.273\n",
      "DC            -0.0992      0.082     -1.211      0.226      -0.260       0.062\n",
      "ISI           -0.0424      0.055     -0.769      0.442      -0.151       0.066\n",
      "temp           0.0984      0.072      1.365      0.173      -0.043       0.240\n",
      "RH            -0.0391      0.062     -0.627      0.531      -0.162       0.083\n",
      "wind           0.1292      0.091      1.425      0.155      -0.049       0.307\n",
      "rain          -0.1112      0.205     -0.543      0.587      -0.514       0.291\n",
      "==============================================================================\n",
      "Omnibus:                      971.244   Durbin-Watson:                   1.659\n",
      "Prob(Omnibus):                  0.000   Jarque-Bera (JB):           761652.674\n",
      "Skew:                          12.472   Prob(JB):                         0.00\n",
      "Kurtosis:                     189.373   Cond. No.                         352.\n",
      "==============================================================================\n",
      "\n",
      "Notes:\n",
      "[1] Standard Errors assume that the covariance matrix of the errors is correctly specified.\n"
     ]
    }
   ],
   "source": [
    "X_train_sm = data.drop(['area', 'Y'], axis = 1)\n",
    "\n",
    "for i in range(len(X_train_sm['wind'])):\n",
    "    if X_train_sm['wind'][i] > 0:\n",
    "        X_train_sm['wind'][i] = log(X_train_sm['wind'][i], 20)\n",
    "    X_train_sm['month'][i] = X_train_sm['month'][i] * X_train_sm['month'][i]\n",
    "    if X_train_sm['rain'][i] > 0:\n",
    "        X_train_sm['rain'][i] = pow(X_train_sm['rain'][i], 0.4)\n",
    "    if X_train_sm['DC'][i] > 0:\n",
    "        X_train_sm['DC'][i] = pow(X_train_sm['DC'][i], 1.4)\n",
    "\n",
    "X_train_copy = sm.add_constant(X_train_sm)\n",
    "model = sm.OLS(y_train, X_train_copy).fit()\n",
    "\n",
    "print(model.summary())"
   ],
   "metadata": {
    "collapsed": false,
    "pycharm": {
     "name": "#%%\n"
    }
   }
  },
  {
   "cell_type": "code",
   "execution_count": 501,
   "outputs": [
    {
     "name": "stdout",
     "output_type": "stream",
     "text": [
      "RMSE :  2.034642\n",
      "                            OLS Regression Results                            \n",
      "==============================================================================\n",
      "Dep. Variable:                   area   R-squared:                       0.027\n",
      "Model:                            OLS   Adj. R-squared:                  0.012\n",
      "Method:                 Least Squares   F-statistic:                     1.771\n",
      "Date:                Mon, 27 Jun 2022   Prob (F-statistic):             0.0804\n",
      "Time:                        16:22:43   Log-Likelihood:                -726.48\n",
      "No. Observations:                 517   AIC:                             1471.\n",
      "Df Residuals:                     508   BIC:                             1509.\n",
      "Df Model:                           8                                         \n",
      "Covariance Type:            nonrobust                                         \n",
      "==============================================================================\n",
      "                 coef    std err          t      P>|t|      [0.025      0.975]\n",
      "------------------------------------------------------------------------------\n",
      "const         -0.1912      0.121     -1.586      0.113      -0.428       0.046\n",
      "X              0.0315      0.019      1.647      0.100      -0.006       0.069\n",
      "month          0.0017      0.001      1.634      0.103      -0.000       0.004\n",
      "DMC            0.1139      0.070      1.618      0.106      -0.024       0.252\n",
      "DC            -0.1050      0.080     -1.305      0.193      -0.263       0.053\n",
      "ISI           -0.0464      0.049     -0.941      0.347      -0.143       0.050\n",
      "temp           0.1285      0.055      2.340      0.020       0.021       0.236\n",
      "wind           0.1320      0.090      1.465      0.143      -0.045       0.309\n",
      "rain          -0.1383      0.198     -0.698      0.486      -0.528       0.251\n",
      "==============================================================================\n",
      "Omnibus:                      971.405   Durbin-Watson:                   1.659\n",
      "Prob(Omnibus):                  0.000   Jarque-Bera (JB):           761316.386\n",
      "Skew:                          12.477   Prob(JB):                         0.00\n",
      "Kurtosis:                     189.330   Cond. No.                         338.\n",
      "==============================================================================\n",
      "\n",
      "Notes:\n",
      "[1] Standard Errors assume that the covariance matrix of the errors is correctly specified.\n"
     ]
    }
   ],
   "source": [
    "import numpy as np\n",
    "from sklearn.metrics import mean_squared_error as MSE\n",
    "\n",
    "X_train_sm = data.drop(['area', 'Y', 'day', 'FFMC', 'RH'], axis = 1)\n",
    "\n",
    "for i in range(len(X_train_sm['wind'])):\n",
    "    if X_train_sm['wind'][i] > 0:\n",
    "        X_train_sm['wind'][i] = log(X_train_sm['wind'][i], 20)\n",
    "    X_train_sm['month'][i] = X_train_sm['month'][i] * X_train_sm['month'][i]\n",
    "    if X_train_sm['rain'][i] > 0:\n",
    "        X_train_sm['rain'][i] = pow(X_train_sm['rain'][i], 0.4)\n",
    "    if X_train_sm['DC'][i] > 0:\n",
    "        X_train_sm['DC'][i] = pow(X_train_sm['DC'][i], 1.4)\n",
    "\n",
    "X_train_copy = sm.add_constant(X_train_sm)\n",
    "model = sm.OLS(y_train, X_train_copy).fit()\n",
    "\n",
    "y_pred = model.predict(X_test)\n",
    "rmse = np.sqrt(MSE(y_test, y_pred))\n",
    "print(\"RMSE : % f\" %(rmse))\n",
    "print(model.summary())"
   ],
   "metadata": {
    "collapsed": false,
    "pycharm": {
     "name": "#%%\n"
    }
   }
  },
  {
   "cell_type": "code",
   "execution_count": 502,
   "outputs": [
    {
     "name": "stdout",
     "output_type": "stream",
     "text": [
      "                                 OLS Regression Results                                \n",
      "=======================================================================================\n",
      "Dep. Variable:                   area   R-squared (uncentered):                   0.018\n",
      "Model:                            OLS   Adj. R-squared (uncentered):             -0.003\n",
      "Method:                 Least Squares   F-statistic:                             0.8522\n",
      "Date:                Mon, 27 Jun 2022   Prob (F-statistic):                       0.588\n",
      "Time:                        16:22:43   Log-Likelihood:                         -728.85\n",
      "No. Observations:                 517   AIC:                                      1480.\n",
      "Df Residuals:                     506   BIC:                                      1526.\n",
      "Df Model:                          11                                                  \n",
      "Covariance Type:            nonrobust                                                  \n",
      "==============================================================================\n",
      "                 coef    std err          t      P>|t|      [0.025      0.975]\n",
      "------------------------------------------------------------------------------\n",
      "X              0.0101      0.015      0.671      0.502      -0.020       0.040\n",
      "month          0.0031      0.010      0.303      0.762      -0.017       0.023\n",
      "day           -0.0147      0.020     -0.736      0.462      -0.054       0.025\n",
      "FFMC          -0.0049      0.058     -0.086      0.932      -0.118       0.108\n",
      "DMC            0.0853      0.071      1.207      0.228      -0.054       0.224\n",
      "DC            -0.0293      0.071     -0.413      0.679      -0.169       0.110\n",
      "ISI           -0.0461      0.056     -0.825      0.410      -0.156       0.064\n",
      "temp           0.0819      0.073      1.120      0.263      -0.062       0.226\n",
      "RH            -0.0528      0.062     -0.857      0.392      -0.174       0.068\n",
      "wind           0.0436      0.047      0.923      0.356      -0.049       0.136\n",
      "rain          -0.0114      0.045     -0.252      0.801      -0.100       0.077\n",
      "==============================================================================\n",
      "Omnibus:                      976.571   Durbin-Watson:                   1.641\n",
      "Prob(Omnibus):                  0.000   Jarque-Bera (JB):           785166.232\n",
      "Skew:                          12.612   Prob(JB):                         0.00\n",
      "Kurtosis:                     192.242   Cond. No.                         18.7\n",
      "==============================================================================\n",
      "\n",
      "Notes:\n",
      "[1] R² is computed without centering (uncentered) since the model does not contain a constant.\n",
      "[2] Standard Errors assume that the covariance matrix of the errors is correctly specified.\n"
     ]
    }
   ],
   "source": [
    "X_train_sm = data.drop(['area', 'Y'], axis = 1)\n",
    "\n",
    "X_train_copy = sm.add_constant(X_train_sm)\n",
    "model = sm.OLS(y_train, X_train_sm).fit()\n",
    "\n",
    "print(model.summary())"
   ],
   "metadata": {
    "collapsed": false,
    "pycharm": {
     "name": "#%%\n"
    }
   }
  },
  {
   "cell_type": "markdown",
   "source": [
    "Проанализировав вышестоящие модели, можно сделать вывод о том, что наилучшая модель:\n",
    "area ~ X + log(wind, 20) + rain^0.4 + DC^1.4 + ISI + day + month + FFMC + DMC + temp + RH\n",
    "Показатель R^2 = 2.4%, в основном, у параметров значение p value больше 0.37, значение VIF параметров не превосходит 3.2"
   ],
   "metadata": {
    "collapsed": false,
    "pycharm": {
     "name": "#%% md\n"
    }
   }
  },
  {
   "cell_type": "markdown",
   "source": [
    "Построим классификацию по районам парка Монтесиньо, для этого выделим 3 района (1 район - класс 0 и т.д.)"
   ],
   "metadata": {
    "collapsed": false,
    "pycharm": {
     "name": "#%% md\n"
    }
   }
  },
  {
   "cell_type": "code",
   "execution_count": 503,
   "outputs": [],
   "source": [
    "region_column = []\n",
    "for i in range(data.shape[0]):\n",
    "    if 1 <= data['X'][i] <= 3 and 2 <= data['Y'][i] <= 6:\n",
    "        region_column.append(0)\n",
    "    elif (4 <= data['X'][i] <= 5 and 3 <= data['Y'][i] <= 6) or (data['X'][i] == 6 and 1 <= data['Y'][i] <= 7):\n",
    "        region_column.append(1)\n",
    "    elif (9 >= data['X'][i] >= 7 >= data['Y'][i] >= 3) or (8 <= data['X'][i] <= 9 and 8 <= data['Y'][i] <= 9):\n",
    "        region_column.append(2)\n",
    "    # else:\n",
    "    #     region_column.append(3) мы не найдем таких данных, поэтому всего выделили три района\n",
    "\n",
    "data['region'] = region_column"
   ],
   "metadata": {
    "collapsed": false,
    "pycharm": {
     "name": "#%%\n"
    }
   }
  },
  {
   "cell_type": "code",
   "execution_count": 504,
   "outputs": [
    {
     "data": {
      "text/plain": "-0.07203891495227022"
     },
     "execution_count": 504,
     "metadata": {},
     "output_type": "execute_result"
    }
   ],
   "source": [
    "from sklearn.ensemble import GradientBoostingRegressor\n",
    "\n",
    "params = {'n_estimators':500,\n",
    "          'max_depth':10,\n",
    "          'criterion':'mse',\n",
    "          'learning_rate':0.003,\n",
    "          'min_samples_leaf':16}\n",
    "target = data.region\n",
    "train = data.drop(['region', 'X', 'Y'], axis=1)\n",
    "\n",
    "X_train, X_test, y_train, y_test = train_test_split(train, target, test_size = 0.3, random_state = 42)\n",
    "\n",
    "# Обучаем\n",
    "gbr = GradientBoostingRegressor(**params)\n",
    "gbr.fit(X_train,y_train)\n",
    "\n",
    "gbr.score(X_test, y_test)"
   ],
   "metadata": {
    "collapsed": false,
    "pycharm": {
     "name": "#%%\n"
    }
   }
  },
  {
   "cell_type": "code",
   "execution_count": 505,
   "outputs": [
    {
     "name": "stdout",
     "output_type": "stream",
     "text": [
      "[16:22:45] WARNING: ..\\src\\learner.cc:1115: Starting in XGBoost 1.3.0, the default evaluation metric used with the objective 'multi:softprob' was changed from 'merror' to 'mlogloss'. Explicitly set eval_metric if you'd like to restore the old behavior.\n",
      "0.41025641025641024\n"
     ]
    }
   ],
   "source": [
    "from sklearn.model_selection import cross_val_score\n",
    "from xgboost import XGBClassifier\n",
    "\n",
    "model = XGBClassifier(use_label_encoder=False)\n",
    "\n",
    "model.fit(X_train, y_train)\n",
    "# scores = cross_val_score(model, X_test, y_test, cv=3)\n",
    "print(model.score(X_test, y_test))"
   ],
   "metadata": {
    "collapsed": false,
    "pycharm": {
     "name": "#%%\n"
    }
   }
  },
  {
   "cell_type": "markdown",
   "source": [
    "Построив две классификации типа Градиентный Бустинг и XGBoost, можно сделать вывод, что классификатор второго типа работает точнее, поскольку значение метрики выше (0.41)."
   ],
   "metadata": {
    "collapsed": false,
    "pycharm": {
     "name": "#%% md\n"
    }
   }
  },
  {
   "cell_type": "code",
   "execution_count": 506,
   "outputs": [
    {
     "name": "stdout",
     "output_type": "stream",
     "text": [
      "RMSE :  0.877297\n"
     ]
    }
   ],
   "source": [
    "from sklearn.metrics import mean_squared_error as MSE\n",
    "from xgboost import XGBRegressor\n",
    "import numpy as np\n",
    "\n",
    "model = XGBRegressor(n_estimators=1000, max_depth=12, eta=0.1, subsample=0.7, colsample_bytree=0.8)\n",
    "model.fit(X_train, y_train)\n",
    "\n",
    "y_pred = model.predict(X_test)\n",
    "rmse = np.sqrt(MSE(y_test, y_pred))\n",
    "print(\"RMSE : % f\" %(rmse))"
   ],
   "metadata": {
    "collapsed": false,
    "pycharm": {
     "name": "#%%\n"
    }
   }
  },
  {
   "cell_type": "markdown",
   "source": [
    "Построим регрессию типа XGBRegressor, предскажем значения для тестовой выборки и оценим разницу между предсказанным и фактическим значением с помощью функции MSE. Получим, что значение корня от квадрата ошибки составляет 0.877297. Значение маленькое, значит регрессия точна."
   ],
   "metadata": {
    "collapsed": false,
    "pycharm": {
     "name": "#%% md\n"
    }
   }
  },
  {
   "cell_type": "markdown",
   "source": [
    "Сравним параметры регионов с максимальной и минимальной площадью сгоревших лесов"
   ],
   "metadata": {
    "collapsed": false,
    "pycharm": {
     "name": "#%% md\n"
    }
   }
  },
  {
   "cell_type": "code",
   "execution_count": 507,
   "outputs": [
    {
     "name": "stdout",
     "output_type": "stream",
     "text": [
      "{0: -12.336550875975494, 1: 1.6812932295922698, 2: 10.655257646383188}\n"
     ]
    }
   ],
   "source": [
    "region_area = {0: 0, 1: 0, 2: 0}\n",
    "for i in range(len(data['region'])):\n",
    "    region_area[data['region'][i]] += data['area'][i]\n",
    "print(region_area)"
   ],
   "metadata": {
    "collapsed": false,
    "pycharm": {
     "name": "#%%\n"
    }
   }
  },
  {
   "cell_type": "code",
   "execution_count": 508,
   "outputs": [
    {
     "data": {
      "text/plain": "                X           Y       month         day        FFMC         DMC  \\\ncount  176.000000  176.000000  176.000000  176.000000  176.000000  176.000000   \nmean     2.039773    3.653409    5.352273    2.789773    0.067624    0.143365   \nstd      0.766147    1.105462    4.481173    1.905213    0.875003    0.920077   \nmin      1.000000    2.000000    1.000000    0.000000   -7.297618   -1.695291   \n25%      1.000000    2.750000    1.000000    1.000000    0.023631   -0.333242   \n50%      2.000000    4.000000    5.000000    3.000000    0.182296    0.143436   \n75%      3.000000    4.000000   11.000000    4.000000    0.413493    0.577134   \nmax      3.000000    6.000000   11.000000    6.000000    0.989220    2.799547   \n\n               DC         ISI        temp          RH        wind  \\\ncount  176.000000  176.000000  176.000000  176.000000  176.000000   \nmean     0.130445    0.028174    0.139676   -0.071703   -0.039673   \nstd      0.890279    0.881168    0.929782    0.907177    0.998689   \nmin     -2.173459   -1.892764   -2.463222   -1.796637   -2.021098   \n25%      0.101119   -0.443828   -0.368758   -0.692456   -0.805959   \n50%      0.457417   -0.136477    0.191489   -0.232381   -0.233308   \n75%      0.671277    0.401385    0.760356    0.411724    0.772325   \nmax      1.240224    2.695535    2.449718    2.681429    3.007063   \n\n               rain        area  \ncount  1.760000e+02  176.000000  \nmean  -7.326831e-02   -0.070094  \nstd    5.566953e-17    0.441954  \nmin   -7.326831e-02   -0.202020  \n25%   -7.326831e-02   -0.202020  \n50%   -7.326831e-02   -0.202020  \n75%   -7.326831e-02   -0.123278  \nmax   -7.326831e-02    3.145454  ",
      "text/html": "<div>\n<style scoped>\n    .dataframe tbody tr th:only-of-type {\n        vertical-align: middle;\n    }\n\n    .dataframe tbody tr th {\n        vertical-align: top;\n    }\n\n    .dataframe thead th {\n        text-align: right;\n    }\n</style>\n<table border=\"1\" class=\"dataframe\">\n  <thead>\n    <tr style=\"text-align: right;\">\n      <th></th>\n      <th>X</th>\n      <th>Y</th>\n      <th>month</th>\n      <th>day</th>\n      <th>FFMC</th>\n      <th>DMC</th>\n      <th>DC</th>\n      <th>ISI</th>\n      <th>temp</th>\n      <th>RH</th>\n      <th>wind</th>\n      <th>rain</th>\n      <th>area</th>\n    </tr>\n  </thead>\n  <tbody>\n    <tr>\n      <th>count</th>\n      <td>176.000000</td>\n      <td>176.000000</td>\n      <td>176.000000</td>\n      <td>176.000000</td>\n      <td>176.000000</td>\n      <td>176.000000</td>\n      <td>176.000000</td>\n      <td>176.000000</td>\n      <td>176.000000</td>\n      <td>176.000000</td>\n      <td>176.000000</td>\n      <td>1.760000e+02</td>\n      <td>176.000000</td>\n    </tr>\n    <tr>\n      <th>mean</th>\n      <td>2.039773</td>\n      <td>3.653409</td>\n      <td>5.352273</td>\n      <td>2.789773</td>\n      <td>0.067624</td>\n      <td>0.143365</td>\n      <td>0.130445</td>\n      <td>0.028174</td>\n      <td>0.139676</td>\n      <td>-0.071703</td>\n      <td>-0.039673</td>\n      <td>-7.326831e-02</td>\n      <td>-0.070094</td>\n    </tr>\n    <tr>\n      <th>std</th>\n      <td>0.766147</td>\n      <td>1.105462</td>\n      <td>4.481173</td>\n      <td>1.905213</td>\n      <td>0.875003</td>\n      <td>0.920077</td>\n      <td>0.890279</td>\n      <td>0.881168</td>\n      <td>0.929782</td>\n      <td>0.907177</td>\n      <td>0.998689</td>\n      <td>5.566953e-17</td>\n      <td>0.441954</td>\n    </tr>\n    <tr>\n      <th>min</th>\n      <td>1.000000</td>\n      <td>2.000000</td>\n      <td>1.000000</td>\n      <td>0.000000</td>\n      <td>-7.297618</td>\n      <td>-1.695291</td>\n      <td>-2.173459</td>\n      <td>-1.892764</td>\n      <td>-2.463222</td>\n      <td>-1.796637</td>\n      <td>-2.021098</td>\n      <td>-7.326831e-02</td>\n      <td>-0.202020</td>\n    </tr>\n    <tr>\n      <th>25%</th>\n      <td>1.000000</td>\n      <td>2.750000</td>\n      <td>1.000000</td>\n      <td>1.000000</td>\n      <td>0.023631</td>\n      <td>-0.333242</td>\n      <td>0.101119</td>\n      <td>-0.443828</td>\n      <td>-0.368758</td>\n      <td>-0.692456</td>\n      <td>-0.805959</td>\n      <td>-7.326831e-02</td>\n      <td>-0.202020</td>\n    </tr>\n    <tr>\n      <th>50%</th>\n      <td>2.000000</td>\n      <td>4.000000</td>\n      <td>5.000000</td>\n      <td>3.000000</td>\n      <td>0.182296</td>\n      <td>0.143436</td>\n      <td>0.457417</td>\n      <td>-0.136477</td>\n      <td>0.191489</td>\n      <td>-0.232381</td>\n      <td>-0.233308</td>\n      <td>-7.326831e-02</td>\n      <td>-0.202020</td>\n    </tr>\n    <tr>\n      <th>75%</th>\n      <td>3.000000</td>\n      <td>4.000000</td>\n      <td>11.000000</td>\n      <td>4.000000</td>\n      <td>0.413493</td>\n      <td>0.577134</td>\n      <td>0.671277</td>\n      <td>0.401385</td>\n      <td>0.760356</td>\n      <td>0.411724</td>\n      <td>0.772325</td>\n      <td>-7.326831e-02</td>\n      <td>-0.123278</td>\n    </tr>\n    <tr>\n      <th>max</th>\n      <td>3.000000</td>\n      <td>6.000000</td>\n      <td>11.000000</td>\n      <td>6.000000</td>\n      <td>0.989220</td>\n      <td>2.799547</td>\n      <td>1.240224</td>\n      <td>2.695535</td>\n      <td>2.449718</td>\n      <td>2.681429</td>\n      <td>3.007063</td>\n      <td>-7.326831e-02</td>\n      <td>3.145454</td>\n    </tr>\n  </tbody>\n</table>\n</div>"
     },
     "execution_count": 508,
     "metadata": {},
     "output_type": "execute_result"
    }
   ],
   "source": [
    "data_reg = data.set_index('region')\n",
    "region0 = data_reg.drop([1, 2], axis=0)\n",
    "region0.describe()"
   ],
   "metadata": {
    "collapsed": false,
    "pycharm": {
     "name": "#%%\n"
    }
   }
  },
  {
   "cell_type": "code",
   "execution_count": 509,
   "outputs": [
    {
     "data": {
      "text/plain": "                X           Y       month         day        FFMC         DMC  \\\ncount  134.000000  134.000000  134.000000  134.000000  134.000000  134.000000   \nmean     7.649254    5.164179    5.067164    2.679104    0.069573    0.158959   \nstd      0.651862    1.304671    4.200247    1.845950    0.543919    1.096129   \nmin      7.000000    3.000000    0.000000    0.000000   -1.640083   -1.685913   \n25%      7.000000    4.000000    1.000000    1.000000   -0.094234   -0.585647   \n50%      8.000000    5.000000    5.000000    3.000000    0.173229   -0.062083   \n75%      8.000000    6.000000   10.000000    4.000000    0.336427    0.885021   \nmax      9.000000    9.000000   11.000000    6.000000    0.989220    2.755787   \n\n               DC         ISI        temp          RH        wind        rain  \\\ncount  134.000000  134.000000  134.000000  134.000000  134.000000  134.000000   \nmean     0.067529    0.140891    0.097836    0.197023   -0.005664    0.163985   \nstd      0.869395    1.247238    0.944210    1.064221    0.967976    1.915474   \nmin     -2.179108   -1.563460   -2.377030   -1.367233   -1.741756   -0.073268   \n25%     -0.294723   -0.526153   -0.459260   -0.631113   -0.736124   -0.073268   \n50%      0.471944   -0.103547    0.182870   -0.017679   -0.009834   -0.073268   \n75%      0.607926    0.648363    0.773285    0.948479    0.492982   -0.073268   \nmax      1.216013   10.335381    2.087712    3.356206    3.007063   21.572284   \n\n             area  \ncount  134.000000  \nmean     0.079517  \nstd      1.148771  \nmin     -0.202020  \n25%     -0.202020  \n50%     -0.183543  \n75%     -0.078266  \nmax     11.533008  ",
      "text/html": "<div>\n<style scoped>\n    .dataframe tbody tr th:only-of-type {\n        vertical-align: middle;\n    }\n\n    .dataframe tbody tr th {\n        vertical-align: top;\n    }\n\n    .dataframe thead th {\n        text-align: right;\n    }\n</style>\n<table border=\"1\" class=\"dataframe\">\n  <thead>\n    <tr style=\"text-align: right;\">\n      <th></th>\n      <th>X</th>\n      <th>Y</th>\n      <th>month</th>\n      <th>day</th>\n      <th>FFMC</th>\n      <th>DMC</th>\n      <th>DC</th>\n      <th>ISI</th>\n      <th>temp</th>\n      <th>RH</th>\n      <th>wind</th>\n      <th>rain</th>\n      <th>area</th>\n    </tr>\n  </thead>\n  <tbody>\n    <tr>\n      <th>count</th>\n      <td>134.000000</td>\n      <td>134.000000</td>\n      <td>134.000000</td>\n      <td>134.000000</td>\n      <td>134.000000</td>\n      <td>134.000000</td>\n      <td>134.000000</td>\n      <td>134.000000</td>\n      <td>134.000000</td>\n      <td>134.000000</td>\n      <td>134.000000</td>\n      <td>134.000000</td>\n      <td>134.000000</td>\n    </tr>\n    <tr>\n      <th>mean</th>\n      <td>7.649254</td>\n      <td>5.164179</td>\n      <td>5.067164</td>\n      <td>2.679104</td>\n      <td>0.069573</td>\n      <td>0.158959</td>\n      <td>0.067529</td>\n      <td>0.140891</td>\n      <td>0.097836</td>\n      <td>0.197023</td>\n      <td>-0.005664</td>\n      <td>0.163985</td>\n      <td>0.079517</td>\n    </tr>\n    <tr>\n      <th>std</th>\n      <td>0.651862</td>\n      <td>1.304671</td>\n      <td>4.200247</td>\n      <td>1.845950</td>\n      <td>0.543919</td>\n      <td>1.096129</td>\n      <td>0.869395</td>\n      <td>1.247238</td>\n      <td>0.944210</td>\n      <td>1.064221</td>\n      <td>0.967976</td>\n      <td>1.915474</td>\n      <td>1.148771</td>\n    </tr>\n    <tr>\n      <th>min</th>\n      <td>7.000000</td>\n      <td>3.000000</td>\n      <td>0.000000</td>\n      <td>0.000000</td>\n      <td>-1.640083</td>\n      <td>-1.685913</td>\n      <td>-2.179108</td>\n      <td>-1.563460</td>\n      <td>-2.377030</td>\n      <td>-1.367233</td>\n      <td>-1.741756</td>\n      <td>-0.073268</td>\n      <td>-0.202020</td>\n    </tr>\n    <tr>\n      <th>25%</th>\n      <td>7.000000</td>\n      <td>4.000000</td>\n      <td>1.000000</td>\n      <td>1.000000</td>\n      <td>-0.094234</td>\n      <td>-0.585647</td>\n      <td>-0.294723</td>\n      <td>-0.526153</td>\n      <td>-0.459260</td>\n      <td>-0.631113</td>\n      <td>-0.736124</td>\n      <td>-0.073268</td>\n      <td>-0.202020</td>\n    </tr>\n    <tr>\n      <th>50%</th>\n      <td>8.000000</td>\n      <td>5.000000</td>\n      <td>5.000000</td>\n      <td>3.000000</td>\n      <td>0.173229</td>\n      <td>-0.062083</td>\n      <td>0.471944</td>\n      <td>-0.103547</td>\n      <td>0.182870</td>\n      <td>-0.017679</td>\n      <td>-0.009834</td>\n      <td>-0.073268</td>\n      <td>-0.183543</td>\n    </tr>\n    <tr>\n      <th>75%</th>\n      <td>8.000000</td>\n      <td>6.000000</td>\n      <td>10.000000</td>\n      <td>4.000000</td>\n      <td>0.336427</td>\n      <td>0.885021</td>\n      <td>0.607926</td>\n      <td>0.648363</td>\n      <td>0.773285</td>\n      <td>0.948479</td>\n      <td>0.492982</td>\n      <td>-0.073268</td>\n      <td>-0.078266</td>\n    </tr>\n    <tr>\n      <th>max</th>\n      <td>9.000000</td>\n      <td>9.000000</td>\n      <td>11.000000</td>\n      <td>6.000000</td>\n      <td>0.989220</td>\n      <td>2.755787</td>\n      <td>1.216013</td>\n      <td>10.335381</td>\n      <td>2.087712</td>\n      <td>3.356206</td>\n      <td>3.007063</td>\n      <td>21.572284</td>\n      <td>11.533008</td>\n    </tr>\n  </tbody>\n</table>\n</div>"
     },
     "execution_count": 509,
     "metadata": {},
     "output_type": "execute_result"
    }
   ],
   "source": [
    "region2 = data_reg.drop([1, 0], axis=0)\n",
    "region2.describe()"
   ],
   "metadata": {
    "collapsed": false,
    "pycharm": {
     "name": "#%%\n"
    }
   }
  },
  {
   "cell_type": "markdown",
   "source": [
    "Сравним средние значения столбцов FFMC, DMC, DC, ISI, temp, RH, wind, rain у 0-вого и 2-ого региона"
   ],
   "metadata": {
    "collapsed": false,
    "pycharm": {
     "name": "#%% md\n"
    }
   }
  },
  {
   "cell_type": "code",
   "execution_count": 510,
   "outputs": [
    {
     "name": "stdout",
     "output_type": "stream",
     "text": [
      "FFMC difference: -0.0019483266286166728\n",
      "DMC difference: -0.015594852709457374\n",
      "DC difference: 0.06291603802128605\n",
      "ISI difference: -0.11271689443752797\n",
      "temp difference: 0.041840218913472796\n",
      "RH difference: -0.2687257776286481\n",
      "wind difference: -0.034008118077450335\n",
      "rain difference: -0.2372530189363404\n"
     ]
    }
   ],
   "source": [
    "print('FFMC difference: ' + str(region0['FFMC'].mean() - region2['FFMC'].mean()))\n",
    "print('DMC difference: ' + str(region0['DMC'].mean() - region2['DMC'].mean()))\n",
    "print('DC difference: ' + str(region0['DC'].mean() - region2['DC'].mean()))\n",
    "print('ISI difference: ' + str(region0['ISI'].mean() - region2['ISI'].mean()))\n",
    "print('temp difference: ' + str(region0['temp'].mean() - region2['temp'].mean()))\n",
    "print('RH difference: ' + str(region0['RH'].mean() - region2['RH'].mean()))\n",
    "print('wind difference: ' + str(region0['wind'].mean() - region2['wind'].mean()))\n",
    "print('rain difference: ' + str(region0['rain'].mean() - region2['rain'].mean()))"
   ],
   "metadata": {
    "collapsed": false,
    "pycharm": {
     "name": "#%%\n"
    }
   }
  },
  {
   "cell_type": "markdown",
   "source": [
    "В результате, больше всего различаются значения в столбцах RH и rain."
   ],
   "metadata": {
    "collapsed": false,
    "pycharm": {
     "name": "#%% md\n"
    }
   }
  }
 ],
 "metadata": {
  "kernelspec": {
   "display_name": "Python 3",
   "language": "python",
   "name": "python3"
  },
  "language_info": {
   "codemirror_mode": {
    "name": "ipython",
    "version": 2
   },
   "file_extension": ".py",
   "mimetype": "text/x-python",
   "name": "python",
   "nbconvert_exporter": "python",
   "pygments_lexer": "ipython2",
   "version": "2.7.6"
  }
 },
 "nbformat": 4,
 "nbformat_minor": 0
}